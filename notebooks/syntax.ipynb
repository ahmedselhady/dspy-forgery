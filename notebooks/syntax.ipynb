{
 "cells": [
  {
   "cell_type": "markdown",
   "id": "7f3ec654",
   "metadata": {},
   "source": [
    "# About DSPy\n",
    "\n",
    "Programming around LLMs without \"Prompt Engineering\"\n",
    "\n",
    "-- but wait: you can automatically optimize the promt with ~20 examples\n"
   ]
  },
  {
   "cell_type": "markdown",
   "id": "72bbf6d5",
   "metadata": {},
   "source": [
    "## Created By Stanford NLP Group -- Maintained by Databricks\n",
    "Paper: https://arxiv.org/abs/2310.03714 \n",
    "\n",
    "Omar Khattab et al. \\\n",
    "![Omar Khattab](data:image/jpeg;base64,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)  ![Tom](https://encrypted-tbn0.gstatic.com/images?q=tbn:ANd9GcTIihNHQ0hJF-JFdv9F0X_dEB78p0EhR0uGcFaa0nT54kTs2qmn2Ea4w_sLxREsKMqBuRI&usqp=CAU)\n",
    "\n",
    "\n"
   ]
  },
  {
   "cell_type": "markdown",
   "id": "d1f961ac",
   "metadata": {},
   "source": [
    "## How it works?\n",
    "\n",
    "Declarative Programming: When the LLM is a **Module** in your application. \\\n",
    "Instead of thinking about how to prompt, format the output, and then use the LLM, only declare its \"Functionality\"\n",
    "\n",
    "\n"
   ]
  },
  {
   "cell_type": "markdown",
   "id": "0e2d4920",
   "metadata": {},
   "source": [
    "# DSPy"
   ]
  },
  {
   "cell_type": "code",
   "execution_count": 1,
   "id": "0c9e5ebe",
   "metadata": {},
   "outputs": [],
   "source": [
    "!pip install -q dspy"
   ]
  },
  {
   "cell_type": "code",
   "execution_count": 2,
   "id": "d9a9ab0f",
   "metadata": {},
   "outputs": [
    {
     "name": "stderr",
     "output_type": "stream",
     "text": [
      "/gaueko0/users/asalem/anaconda3/envs/py310_transformers4dot49/lib/python3.10/site-packages/tqdm/auto.py:21: TqdmWarning: IProgress not found. Please update jupyter and ipywidgets. See https://ipywidgets.readthedocs.io/en/stable/user_install.html\n",
      "  from .autonotebook import tqdm as notebook_tqdm\n"
     ]
    },
    {
     "data": {
      "text/plain": [
       "True"
      ]
     },
     "execution_count": 2,
     "metadata": {},
     "output_type": "execute_result"
    }
   ],
   "source": [
    "import dspy\n",
    "\n",
    "from dotenv import load_dotenv\n",
    "from pprint import pprint\n",
    "from typing import Literal, Union\n",
    "load_dotenv()\n"
   ]
  },
  {
   "cell_type": "markdown",
   "id": "6f0df301",
   "metadata": {},
   "source": [
    "## LLM Definition"
   ]
  },
  {
   "cell_type": "code",
   "execution_count": 3,
   "id": "6344776f",
   "metadata": {},
   "outputs": [],
   "source": [
    "gpt4o_mini = dspy.LM('gpt-4o-mini')"
   ]
  },
  {
   "cell_type": "markdown",
   "id": "c6fe6265",
   "metadata": {},
   "source": [
    "## LLM Prediction Mode\n",
    "1. Predict: directly respond with the output\n",
    "2. Chain of Thought\n",
    "3. Program of Thought\n",
    "4. ReAct\n",
    "6. CodeAct\n",
    "\n",
    "## Test Time Compute:\n",
    "1. Thinking Models\n",
    "2. BestOfN\n",
    "3. Parallel\n",
    "4. Refine"
   ]
  },
  {
   "cell_type": "markdown",
   "id": "57e96da8",
   "metadata": {},
   "source": [
    "## Signature\n",
    "\n",
    "Like a python method, you need to define the LLM's functionality signature.\n",
    "\n",
    "(parameter1, parameter2, parameter3) -> output\n"
   ]
  },
  {
   "cell_type": "markdown",
   "id": "e2812205",
   "metadata": {},
   "source": [
    "### String Signatures\n",
    "Answer a question!"
   ]
  },
  {
   "cell_type": "code",
   "execution_count": 4,
   "id": "90279a78",
   "metadata": {},
   "outputs": [
    {
     "name": "stdout",
     "output_type": "stream",
     "text": [
      "'Answer: The capital of France is Paris.'\n"
     ]
    }
   ],
   "source": [
    "# test connection:\n",
    "with dspy.context(lm=gpt4o_mini):\n",
    "    \n",
    "    direct_prediction = dspy.Predict(\"question->answer\")\n",
    "    response = direct_prediction(question=\"What is the capital of France?\")\n",
    "    pprint(f\"Answer: {response.answer}\")\n"
   ]
  },
  {
   "cell_type": "code",
   "execution_count": 5,
   "id": "a4ee77c9",
   "metadata": {},
   "outputs": [
    {
     "name": "stdout",
     "output_type": "stream",
     "text": [
      "'Answer: No'\n"
     ]
    }
   ],
   "source": [
    "with dspy.context(lm=gpt4o_mini):\n",
    "    \n",
    "    direct_prediction = dspy.Predict(\"question->answer\")\n",
    "    response = direct_prediction(question=\"Can any form of water be used as a fuel? [Yes/No]\")\n",
    "    pprint(f\"Answer: {response.answer}\")"
   ]
  },
  {
   "cell_type": "code",
   "execution_count": 6,
   "id": "b444db71",
   "metadata": {},
   "outputs": [
    {
     "name": "stdout",
     "output_type": "stream",
     "text": [
      "('Reasoning: Water itself cannot be used as a fuel in the traditional sense '\n",
      " 'because it is a stable compound made of hydrogen and oxygen. However, water '\n",
      " 'can be used to produce hydrogen fuel through processes like electrolysis, '\n",
      " 'where water is split into hydrogen and oxygen. The hydrogen produced can '\n",
      " 'then be used as a fuel. Therefore, while water cannot directly serve as a '\n",
      " 'fuel, it can be a source of fuel (hydrogen) when processed appropriately.')\n",
      "'Answer: No'\n"
     ]
    }
   ],
   "source": [
    "with dspy.context(lm=gpt4o_mini):\n",
    "    direct_prediction = dspy.ChainOfThought(\"question->answer\")\n",
    "    response = direct_prediction(question=\"Can any form of water be used as a fuel? [Yes/No]\")\n",
    "    pprint(f\"Reasoning: {response.reasoning}\")\n",
    "    pprint(f\"Answer: {response.answer}\")"
   ]
  },
  {
   "cell_type": "markdown",
   "id": "2133be81",
   "metadata": {},
   "source": [
    "## Signatures as a module\n"
   ]
  },
  {
   "cell_type": "code",
   "execution_count": 7,
   "id": "44e6cbb9",
   "metadata": {},
   "outputs": [],
   "source": [
    "class QuestionAnswering(dspy.Signature):\n",
    "    \n",
    "    question:  str = dspy.InputField(desc=\"A user question which you can answer\")\n",
    "    answer: Literal[\"Yes\", \"No\"] = dspy.OutputField(desc=\"Your answer to the question\")\n",
    "    \n",
    "    "
   ]
  },
  {
   "cell_type": "code",
   "execution_count": 8,
   "id": "045f88f0",
   "metadata": {},
   "outputs": [
    {
     "name": "stdout",
     "output_type": "stream",
     "text": [
      "'Answer: No'\n"
     ]
    }
   ],
   "source": [
    "with dspy.context(lm=gpt4o_mini):\n",
    "    \n",
    "    direct_prediction = dspy.Predict(QuestionAnswering)\n",
    "    response = direct_prediction(question=\"Can any form of water be used as a fuel?\")\n",
    "    pprint(f\"Answer: {response.answer}\")"
   ]
  },
  {
   "cell_type": "code",
   "execution_count": 9,
   "id": "49991488",
   "metadata": {},
   "outputs": [
    {
     "name": "stdout",
     "output_type": "stream",
     "text": [
      "('Reasoning: Water itself cannot be used as a fuel because it is a stable '\n",
      " 'compound made of hydrogen and oxygen, and it does not release energy when '\n",
      " 'burned. However, hydrogen extracted from water can be used as a fuel. '\n",
      " 'Therefore, while water in its natural state cannot be used directly as a '\n",
      " 'fuel, its components can be utilized in fuel cells or combustion processes. '\n",
      " 'Thus, the answer to the question is \"No.\"')\n",
      "'Answer: No'\n"
     ]
    }
   ],
   "source": [
    "with dspy.context(lm=gpt4o_mini):\n",
    "    direct_prediction = dspy.ChainOfThought(QuestionAnswering)\n",
    "    response = direct_prediction(question=\"Can any form of water be used as a fuel?\")\n",
    "    pprint(f\"Reasoning: {response.reasoning}\")\n",
    "    pprint(f\"Answer: {response.answer}\")"
   ]
  },
  {
   "cell_type": "markdown",
   "id": "af729487",
   "metadata": {},
   "source": [
    "## Modules"
   ]
  },
  {
   "cell_type": "markdown",
   "id": "5c2520f2",
   "metadata": {},
   "source": [
    "What if we have a multiple-step interactions with the LLM"
   ]
  },
  {
   "cell_type": "code",
   "execution_count": 10,
   "id": "c4cef0f6",
   "metadata": {},
   "outputs": [
    {
     "name": "stdout",
     "output_type": "stream",
     "text": [
      "'Sentiment: Negative'\n",
      "'Sentiment: Positive'\n"
     ]
    }
   ],
   "source": [
    "class MovieSentiment(dspy.Signature):\n",
    "    \n",
    "    review: str = dspy.InputField(desc=\"A user review of a movie\")\n",
    "    sentiment: Literal[\"Positive\", \"Negative\", \"Neutral\"] = dspy.OutputField(desc=\"The sentiment of the review\")\n",
    "    \n",
    "with dspy.context(lm=gpt4o_mini):\n",
    "    \n",
    "    direct_prediction = dspy.Predict(MovieSentiment)\n",
    "    response = direct_prediction(review=\"I hated the storyline\")\n",
    "    pprint(f\"Sentiment: {response.sentiment}\")\n",
    "    \n",
    "    response = direct_prediction(review=\"I enjoyed the acting\")\n",
    "    pprint(f\"Sentiment: {response.sentiment}\")\n",
    "    "
   ]
  },
  {
   "cell_type": "code",
   "execution_count": 11,
   "id": "8a4ef497",
   "metadata": {},
   "outputs": [
    {
     "name": "stdout",
     "output_type": "stream",
     "text": [
      "'Sentiment: Positive'\n",
      "'Aspect: acting'\n"
     ]
    }
   ],
   "source": [
    "class SentimentMovieAspect(dspy.Signature):\n",
    "    \n",
    "    review: str = dspy.InputField(desc=\"A user review of a movie\")\n",
    "    sentiment: Literal[\"Positive\", \"Negative\", \"Neutral\"] = dspy.InputField(desc=\"The sentiment of the review\")\n",
    "    aspect: Literal['cinematography', 'acting', 'storyline'] = dspy.OutputField(desc=\"The aspect of the movie being reviewed\")\n",
    "\n",
    "with dspy.context(lm=gpt4o_mini):\n",
    "\n",
    "    review = \"Leonardo DiCaprio's was phenomenal, he captured the essence of the character perfectly.\"\n",
    "    sentiment_predictor = dspy.Predict(MovieSentiment)\n",
    "    response = sentiment_predictor(review=review)\n",
    "    pprint(f\"Sentiment: {response.sentiment}\")\n",
    "\n",
    "    aspect_analyzer = dspy.ChainOfThought(SentimentMovieAspect)\n",
    "    response = aspect_analyzer(review=review, sentiment=response.sentiment)\n",
    "    pprint(f\"Aspect: {response.aspect}\")\n"
   ]
  },
  {
   "cell_type": "code",
   "execution_count": 12,
   "id": "557c8c24",
   "metadata": {},
   "outputs": [],
   "source": [
    "class MovieSentimentWithAspect(dspy.Module):\n",
    "    \n",
    "    \n",
    "    def __init__(self, lm):\n",
    "        self.lm = lm\n",
    "        self.sentiment_predictor = dspy.Predict(MovieSentiment)\n",
    "        self.aspect_analyzer = dspy.ChainOfThought(SentimentMovieAspect)\n",
    "        \n",
    "    def forward(self, review: str) -> Union[Literal[\"Positive\", \"Negative\", \"Neutral\"], Literal['cinematography', 'acting', 'storyline']]:\n",
    "        with dspy.context(lm=self.lm):\n",
    "            sentiment_response = self.sentiment_predictor(review=review)\n",
    "            aspect_response = self.aspect_analyzer(review=review, sentiment=sentiment_response.sentiment)\n",
    "            return sentiment_response.sentiment, aspect_response.aspect\n",
    "        "
   ]
  },
  {
   "cell_type": "code",
   "execution_count": 13,
   "id": "fd7c9ff1",
   "metadata": {},
   "outputs": [
    {
     "name": "stdout",
     "output_type": "stream",
     "text": [
      "Aspect: acting\n",
      "Sentiment: Positive\n"
     ]
    }
   ],
   "source": [
    "sentiment_with_aspect_llm_analyzer = MovieSentimentWithAspect(lm=gpt4o_mini)\n",
    "sentiment, aspect  = sentiment_with_aspect_llm_analyzer(review=\"Leonardo DiCaprio's was phenomenal, he captured the essence of the character perfectly.\")\n",
    "print(f\"Aspect: {aspect}\")\n",
    "print(f\"Sentiment: {sentiment}\")"
   ]
  },
  {
   "cell_type": "code",
   "execution_count": 14,
   "id": "9f01fd1f",
   "metadata": {},
   "outputs": [
    {
     "name": "stdout",
     "output_type": "stream",
     "text": [
      "Aspect: cinematography\n",
      "Sentiment: Negative\n"
     ]
    }
   ],
   "source": [
    "sentiment, aspect  = sentiment_with_aspect_llm_analyzer(review=\"The camera man was drunk, the shots were terrible.\")\n",
    "print(f\"Aspect: {aspect}\")\n",
    "print(f\"Sentiment: {sentiment}\")"
   ]
  },
  {
   "cell_type": "code",
   "execution_count": 15,
   "id": "bfe2e8b4",
   "metadata": {},
   "outputs": [
    {
     "name": "stdout",
     "output_type": "stream",
     "text": [
      "Aspect: storyline\n",
      "Sentiment: Negative\n"
     ]
    }
   ],
   "source": [
    "sentiment, aspect  = sentiment_with_aspect_llm_analyzer(review=\"What the hell was that? I want my money back.\")\n",
    "print(f\"Aspect: {aspect}\")\n",
    "print(f\"Sentiment: {sentiment}\")"
   ]
  },
  {
   "cell_type": "markdown",
   "id": "24bf605d",
   "metadata": {},
   "source": [
    "# Debugging and Inspection\n",
    "\n"
   ]
  },
  {
   "cell_type": "code",
   "execution_count": 16,
   "id": "e016ac70",
   "metadata": {},
   "outputs": [
    {
     "ename": "AttributeError",
     "evalue": "module 'dspy' has no attribute 'history'",
     "output_type": "error",
     "traceback": [
      "\u001b[0;31m---------------------------------------------------------------------------\u001b[0m",
      "\u001b[0;31mAttributeError\u001b[0m                            Traceback (most recent call last)",
      "Cell \u001b[0;32mIn[16], line 1\u001b[0m\n\u001b[0;32m----> 1\u001b[0m \u001b[43mdspy\u001b[49m\u001b[38;5;241;43m.\u001b[39;49m\u001b[43mhistory\u001b[49m(\u001b[38;5;241m3\u001b[39m)\n",
      "\u001b[0;31mAttributeError\u001b[0m: module 'dspy' has no attribute 'history'"
     ]
    }
   ],
   "source": [
    "dspy.history(3)"
   ]
  }
 ],
 "metadata": {
  "kernelspec": {
   "display_name": "Python 3",
   "language": "python",
   "name": "python3"
  },
  "language_info": {
   "codemirror_mode": {
    "name": "ipython",
    "version": 3
   },
   "file_extension": ".py",
   "mimetype": "text/x-python",
   "name": "python",
   "nbconvert_exporter": "python",
   "pygments_lexer": "ipython3",
   "version": "3.10.0"
  }
 },
 "nbformat": 4,
 "nbformat_minor": 5
}
