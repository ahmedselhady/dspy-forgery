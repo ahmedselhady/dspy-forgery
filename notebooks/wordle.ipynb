{
 "cells": [
  {
   "cell_type": "markdown",
   "id": "82a1c89f",
   "metadata": {},
   "source": [
    "# Wordle Agent"
   ]
  },
  {
   "cell_type": "markdown",
   "id": "6bb70b4b",
   "metadata": {},
   "source": []
  },
  {
   "cell_type": "markdown",
   "id": "0ba97fc4",
   "metadata": {},
   "source": [
    "\n",
    "WORDLE GAME:\n",
    "\n",
    "\n",
    "![WordleGame](https://media.phillyvoice.com/media/images/011322_Wordle.2e16d0ba.fill-735x490.png)\n",
    "\n",
    "\n",
    "### Game Rules: - You have **6 tries** to guess a secret **5-letter** word. \n",
    "- Each guess must be a valid **5-letter English word**. \n",
    "- After each guess, you will receive feedback indicating how close your guess was. \n",
    "\n",
    "### Feedback Format: Each letter in your guess will receive one of three vlaues: \n",
    "- G (green): correct letter in the correct position\n",
    "- Y (yellow): letter exists in the word but in the wrong position\n",
    "- X (wrong): letter is not in the word\n"
   ]
  },
  {
   "cell_type": "code",
   "execution_count": null,
   "id": "97084b0b",
   "metadata": {},
   "outputs": [
    {
     "name": "stderr",
     "output_type": "stream",
     "text": [
      "/gaueko0/users/asalem/anaconda3/envs/py310_transformers4dot49/lib/python3.10/site-packages/tqdm/auto.py:21: TqdmWarning: IProgress not found. Please update jupyter and ipywidgets. See https://ipywidgets.readthedocs.io/en/stable/user_install.html\n",
      "  from .autonotebook import tqdm as notebook_tqdm\n"
     ]
    }
   ],
   "source": [
    "from datasets import load_dataset\n",
    "import pandas as pd\n",
    "import dspy\n",
    "from dotenv import load_dotenv\n",
    "from pprint import pprint\n",
    "from typing import Literal, Union\n",
    "load_dotenv()\n",
    "\n",
    "gpt4o_mini = dspy.LM('gpt-4o-mini')\n",
    "dataset = load_dataset(\"willcb/V3-wordle\", split=\"train\").to_pandas()\n"
   ]
  },
  {
   "cell_type": "code",
   "execution_count": null,
   "id": "ece6822a",
   "metadata": {},
   "outputs": [],
   "source": [
    "dataset.head(3)"
   ]
  },
  {
   "cell_type": "code",
   "execution_count": null,
   "id": "509ebb23",
   "metadata": {},
   "outputs": [],
   "source": [
    "class GuessedWordFeedback(dspy.Signature):\n",
    "\n",
    "    guessed_word: str = dspy.InputField(desc=\"The predicted word by the player\")\n",
    "    actual_word: str = dspy.InputField(desc=\"The actual word to be guessed\")\n",
    "    feedback: str = dspy.OutputField(\n",
    "        desc=\"\"\"Feedback Format: Each letter in your guess will receive one of three values: \n",
    "- G (green): correct letter in the correct position\n",
    "- Y (yellow): letter exists in the word but in the wrong position\n",
    "- X (wrong): letter is not in the word\"\"\"\n",
    "    )\n",
    "\n",
    "## Test the signature\n",
    "with dspy.context(lm=gpt4o_mini):\n",
    "    feedback_player = dspy.ChainOfThought(GuessedWordFeedback)\n",
    "    response = feedback_player(guessed_word=\"apple\", actual_word=\"plane\")\n",
    "    pprint(response)"
   ]
  },
  {
   "cell_type": "code",
   "execution_count": null,
   "id": "7018ef6b",
   "metadata": {},
   "outputs": [],
   "source": [
    "class WordleGuess(dspy.Signature):\n",
    "\n",
    "    feedback: str = dspy.InputField(\n",
    "        desc=\"\"\"Feedback from the previous guess, if any. Feedback Format: Each letter in your guess will receive one of three values: \n",
    "- G (green): correct letter in the correct position\n",
    "- Y (yellow): letter exists in the word but in the wrong position\n",
    "- X (wrong): letter is not in the word. First guess has no feedback.\"\"\"\n",
    "    )\n",
    "\n",
    "    guessed_word: str = dspy.OutputField(\n",
    "        desc=\"The guessed word based on the feedback from the previous guess. only alphabetic characters are allowed, and it must be a valid 5-letter English word.\",\n",
    "    )\n",
    "\n",
    "## Test the signature\n",
    "\n",
    "with dspy.context(lm=gpt4o_mini):\n",
    "    wordle_guess = dspy.ChainOfThought(WordleGuess)\n",
    "\n",
    "    # Example usage\n",
    "    response = wordle_guess(feedback=\"First Guess, no feedback\")\n",
    "    pprint(response)"
   ]
  },
  {
   "cell_type": "code",
   "execution_count": null,
   "id": "25ad4f9e",
   "metadata": {},
   "outputs": [],
   "source": [
    "class Wordle(dspy.Module):\n",
    "    \"\"\"The game of Wordle.\n",
    "    Game Rules: - You have **6 tries** to guess a secret **5-letter** word.\n",
    "    - Each guess must be a valid **5-letter English word**.\n",
    "    - After each guess, you will receive feedback indicating how close your guess was.\n",
    "\n",
    "    ### Feedback Format: Each letter in your guess will receive one of three values:\n",
    "    - G (green): correct letter in the correct position\n",
    "    - Y (yellow): letter exists in the word but in the wrong position\n",
    "    - X (wrong): letter is not in the word.\"\"\"\n",
    "\n",
    "    def __init__(\n",
    "        self, player1_lm, player2_lm, max_attempts=6, is_training=False, verbose=False, score_function=None\n",
    "    ):\n",
    "        super().__init__()\n",
    "        self.player1 = dspy.ChainOfThought(WordleGuess)\n",
    "        self.player1.set_lm(player1_lm)\n",
    "        self.player2 = dspy.ChainOfThought(GuessedWordFeedback)\n",
    "        self.player2.set_lm(player2_lm)\n",
    "        self.max_attempts = max_attempts\n",
    "        self.training_mode = is_training\n",
    "        self.verbose = verbose\n",
    "        \n",
    "        if is_training:\n",
    "            assert score_function is not None, \"Score function must be provided in training mode.\"\n",
    "            self.score_function = score_function\n",
    "\n",
    "    def forward(self, word):\n",
    "\n",
    "        # first attempt has no feedback\n",
    "        feedback = \"Guess the word!\"\n",
    "\n",
    "        for attempt in range(self.max_attempts):\n",
    "\n",
    "            guess = self.player1(feedback=feedback)\n",
    "            if guess.guessed_word == word:\n",
    "                # print(f\"Predicted Word: {guess.guessed_word}, Feedback: Correct!\")\n",
    "                return (\n",
    "                    guess.guessed_word\n",
    "                    if self.training_mode\n",
    "                    else \"Player 1 Wins after {} attempts!\".format(attempt + 1)\n",
    "                )\n",
    "\n",
    "            feedback = self.player2(guessed_word=guess.guessed_word, actual_word=word)\n",
    "            if self.verbose:\n",
    "                pprint(\n",
    "                    f\"Attempt {attempt + 1}: Predicted Word: {guess.guessed_word}, Feedback: {feedback.feedback}\"\n",
    "                )\n",
    "                \n",
    "        \n",
    "        return guess.guessed_word if self.training_mode else \"Sorry, you've run out of attempts.\""
   ]
  },
  {
   "cell_type": "code",
   "execution_count": null,
   "id": "6a4571ce",
   "metadata": {},
   "outputs": [],
   "source": [
    "wordle_game = Wordle(player1_lm=dspy.LM('gpt-4o-mini'), player2_lm=dspy.LM('gpt-4o-mini'), max_attempts=6, is_training=False, verbose=True)"
   ]
  },
  {
   "cell_type": "code",
   "execution_count": null,
   "id": "a9606329",
   "metadata": {},
   "outputs": [],
   "source": [
    "wordle_game(word=\"clock\")"
   ]
  },
  {
   "cell_type": "code",
   "execution_count": null,
   "id": "8a9d4c81",
   "metadata": {},
   "outputs": [],
   "source": [
    "wordle_game(word=\"plane\")"
   ]
  },
  {
   "cell_type": "code",
   "execution_count": null,
   "id": "5d40a763",
   "metadata": {},
   "outputs": [],
   "source": [
    "wordle_game(word=\"stick\")\n"
   ]
  },
  {
   "cell_type": "markdown",
   "id": "39970a75",
   "metadata": {},
   "source": [
    "# Optimize the Prompt Automatically with MiPROv2\n",
    "\n",
    "Multiprompt Instruction PRoposal Optimizer Version 2"
   ]
  },
  {
   "cell_type": "markdown",
   "id": "36f9ee7d",
   "metadata": {},
   "source": [
    "## Define our Dataset"
   ]
  },
  {
   "cell_type": "code",
   "execution_count": null,
   "id": "50c3cfff",
   "metadata": {},
   "outputs": [],
   "source": [
    "from dspy.datasets.dataset import Dataset\n",
    "\n",
    "class WordleDataser(Dataset):\n",
    "    \n",
    "    def __init__(self, *args, **kwargs):\n",
    "        super().__init__(*args, **kwargs)\n",
    "\n",
    "        ds = load_dataset(\"willcb/V3-wordle\", split=\"train\").remove_columns(['prompt', 'completion', 'reward', 'task']).train_test_split(test_size=0.25)\n",
    "        train_ds = ds['train'].to_pandas()\n",
    "        test_ds = ds['test'].to_pandas()\n",
    "        \n",
    "        self._train = train_ds.to_dict(orient='records')\n",
    "        self._dev = test_ds.to_dict(orient='records')\n",
    "\n",
    "\n",
    "wordle_dataset = WordleDataser()\n",
    "pprint(wordle_dataset.train[:3])"
   ]
  },
  {
   "cell_type": "markdown",
   "id": "ea732124",
   "metadata": {},
   "source": [
    "## Define a Metric!\n",
    "Non Differentiable \n"
   ]
  },
  {
   "cell_type": "code",
   "execution_count": null,
   "id": "d1c8f0a2",
   "metadata": {},
   "outputs": [],
   "source": [
    "from dspy.evaluate import answer_exact_match\n",
    "\n",
    "from dspy.data"
   ]
  },
  {
   "cell_type": "markdown",
   "id": "6c5ac2f9",
   "metadata": {},
   "source": []
  },
  {
   "cell_type": "markdown",
   "id": "b19f9fba",
   "metadata": {},
   "source": []
  }
 ],
 "metadata": {
  "kernelspec": {
   "display_name": "py310_transformers4dot49",
   "language": "python",
   "name": "python3"
  },
  "language_info": {
   "codemirror_mode": {
    "name": "ipython",
    "version": 3
   },
   "file_extension": ".py",
   "mimetype": "text/x-python",
   "name": "python",
   "nbconvert_exporter": "python",
   "pygments_lexer": "ipython3",
   "version": "3.10.0"
  }
 },
 "nbformat": 4,
 "nbformat_minor": 5
}
