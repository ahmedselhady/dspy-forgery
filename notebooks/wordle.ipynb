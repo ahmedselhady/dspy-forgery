{
 "cells": [
  {
   "cell_type": "markdown",
   "id": "82a1c89f",
   "metadata": {},
   "source": [
    "# Wordle Agent"
   ]
  },
  {
   "cell_type": "markdown",
   "id": "6bb70b4b",
   "metadata": {},
   "source": []
  },
  {
   "cell_type": "markdown",
   "id": "0ba97fc4",
   "metadata": {},
   "source": [
    "\n",
    "WORDLE GAME:\n",
    "\n",
    "\n",
    "![WordleGame](https://media.phillyvoice.com/media/images/011322_Wordle.2e16d0ba.fill-735x490.png)\n",
    "\n",
    "\n",
    "### Game Rules: - You have **6 tries** to guess a secret **5-letter** word. \n",
    "- Each guess must be a valid **5-letter English word**. \n",
    "- After each guess, you will receive feedback indicating how close your guess was. \n",
    "\n",
    "### Feedback Format: Each letter in your guess will receive one of three vlaues: \n",
    "- G (green): correct letter in the correct position\n",
    "- Y (yellow): letter exists in the word but in the wrong position\n",
    "- X (wrong): letter is not in the word\n"
   ]
  },
  {
   "cell_type": "code",
   "execution_count": 1,
   "id": "97084b0b",
   "metadata": {},
   "outputs": [
    {
     "name": "stderr",
     "output_type": "stream",
     "text": [
      "/gaueko0/users/asalem/anaconda3/envs/py310_transformers4dot49/lib/python3.10/site-packages/tqdm/auto.py:21: TqdmWarning: IProgress not found. Please update jupyter and ipywidgets. See https://ipywidgets.readthedocs.io/en/stable/user_install.html\n",
      "  from .autonotebook import tqdm as notebook_tqdm\n"
     ]
    }
   ],
   "source": [
    "from datasets import load_dataset\n",
    "import pandas as pd\n",
    "import dspy\n",
    "from dotenv import load_dotenv\n",
    "from pprint import pprint\n",
    "from typing import Literal, Union\n",
    "load_dotenv()\n",
    "\n",
    "gpt4o_mini = dspy.LM('gpt-4o-mini')\n"
   ]
  },
  {
   "cell_type": "code",
   "execution_count": 2,
   "id": "7018ef6b",
   "metadata": {},
   "outputs": [
    {
     "name": "stdout",
     "output_type": "stream",
     "text": [
      "Prediction(\n",
      "    reasoning='Since this is the first guess and there is no feedback, I will choose a common 5-letter word to start the guessing process.',\n",
      "    guessed_word='crate'\n",
      ")\n"
     ]
    }
   ],
   "source": [
    "class WordleGuess(dspy.Signature):\n",
    "\n",
    "    feedback: str = dspy.InputField(\n",
    "        desc=\"\"\"Feedback from the previous guess, if any. Feedback Format: Each letter in your guess will receive one of three values: \n",
    "- G (green): correct letter in the correct position\n",
    "- Y (yellow): letter exists in the word but in the wrong position\n",
    "- X (wrong): letter is not in the word. First guess has no feedback.\"\"\"\n",
    "    )\n",
    "\n",
    "    guessed_word: str = dspy.OutputField(\n",
    "        desc=\"The guessed word based on the feedback from the previous guess. only alphabetic characters are allowed, and it must be a valid 5-letter English word.\",\n",
    "    )\n",
    "\n",
    "## Test the signature\n",
    "\n",
    "with dspy.context(lm=gpt4o_mini):\n",
    "    wordle_guess = dspy.ChainOfThought(WordleGuess)\n",
    "\n",
    "    # Example usage\n",
    "    response = wordle_guess(feedback=\"First Guess, no feedback\")\n",
    "    pprint(response)"
   ]
  },
  {
   "cell_type": "code",
   "execution_count": 3,
   "id": "509ebb23",
   "metadata": {},
   "outputs": [
    {
     "name": "stdout",
     "output_type": "stream",
     "text": [
      "Prediction(\n",
      "    reasoning='The guessed word \"apple\" has some letters that match with the actual word \"plane\". The letter \\'p\\' is in the same position in both words, so it is marked as green. The letter \\'a\\' is present in \"plane\" but in a different position, so it is marked as yellow. The letters \\'l\\' and \\'e\\' in \"apple\" do not appear in \"plane\", so they are marked as wrong.',\n",
      "    feedback='GXYXG'\n",
      ")\n"
     ]
    }
   ],
   "source": [
    "class GuessedWordFeedback(dspy.Signature):\n",
    "\n",
    "    guessed_word: str = dspy.InputField(desc=\"The predicted word by the player\")\n",
    "    actual_word: str = dspy.InputField(desc=\"The actual word to be guessed\")\n",
    "    feedback: str = dspy.OutputField(\n",
    "        desc=\"\"\"Feedback Format: Each letter in your guess will receive one of three values: \n",
    "- G (green): correct letter in the correct position\n",
    "- Y (yellow): letter exists in the word but in the wrong position\n",
    "- X (wrong): letter is not in the word\"\"\"\n",
    "    )\n",
    "\n",
    "## Test the signature\n",
    "with dspy.context(lm=gpt4o_mini):\n",
    "    feedback_player = dspy.ChainOfThought(GuessedWordFeedback)\n",
    "    response = feedback_player(guessed_word=\"apple\", actual_word=\"plane\")\n",
    "    pprint(response)"
   ]
  },
  {
   "cell_type": "code",
   "execution_count": 4,
   "id": "25ad4f9e",
   "metadata": {},
   "outputs": [],
   "source": [
    "class Wordle(dspy.Module):\n",
    "    \"\"\"The game of Wordle.\n",
    "    Game Rules: - You have **6 tries** to guess a secret **5-letter** word.\n",
    "    - Each guess must be a valid **5-letter English word**.\n",
    "    - After each guess, you will receive feedback indicating how close your guess was.\n",
    "\n",
    "    ### Feedback Format: Each letter in your guess will receive one of three values:\n",
    "    - G (green): correct letter in the correct position\n",
    "    - Y (yellow): letter exists in the word but in the wrong position\n",
    "    - X (wrong): letter is not in the word.\"\"\"\n",
    "\n",
    "    def __init__(\n",
    "        self, player1_lm, player2_lm, max_attempts=6, is_training=False, verbose=False\n",
    "    ):\n",
    "        super().__init__()\n",
    "        self.player1 = dspy.ChainOfThought(WordleGuess)\n",
    "        self.player1.set_lm(player1_lm)\n",
    "        self.player2 = dspy.ChainOfThought(GuessedWordFeedback)\n",
    "        self.player2.set_lm(player2_lm)\n",
    "        self.max_attempts = max_attempts\n",
    "        self.training_mode = is_training\n",
    "        self.verbose = verbose\n",
    "        \n",
    "        \n",
    "    def forward(self, word):\n",
    "\n",
    "        # first attempt has no feedback\n",
    "        feedback = \"Guess the word!\"\n",
    "\n",
    "        for attempt in range(self.max_attempts):\n",
    "\n",
    "            guess = self.player1(feedback=feedback)\n",
    "            if guess.guessed_word == word:\n",
    "                # print(f\"Predicted Word: {guess.guessed_word}, Feedback: Correct!\")\n",
    "                return (\n",
    "                    {\"answer\": guess.guessed_word}\n",
    "                    if self.training_mode\n",
    "                    else \"Player 1 Wins after {} attempts!\".format(attempt + 1)\n",
    "                )\n",
    "\n",
    "            feedback = self.player2(guessed_word=guess.guessed_word, actual_word=word)\n",
    "            if self.verbose:\n",
    "                pprint(\n",
    "                    f\"Attempt {attempt + 1}: Predicted Word: {guess.guessed_word}, Feedback: {feedback.feedback}\"\n",
    "                )\n",
    "                \n",
    "        \n",
    "        return {\"answer\": guess.guessed_word} if self.training_mode else \"Sorry, you've run out of attempts.\""
   ]
  },
  {
   "cell_type": "code",
   "execution_count": 5,
   "id": "6a4571ce",
   "metadata": {},
   "outputs": [],
   "source": [
    "wordle_game = Wordle(player1_lm=dspy.LM('gpt-4o-mini'), player2_lm=dspy.LM('gpt-4o-mini'), max_attempts=6, is_training=False, verbose=True)"
   ]
  },
  {
   "cell_type": "code",
   "execution_count": 7,
   "id": "a9606329",
   "metadata": {},
   "outputs": [
    {
     "name": "stdout",
     "output_type": "stream",
     "text": [
      "'Attempt 1: Predicted Word: crate, Feedback: XXXXX'\n",
      "'Attempt 2: Predicted Word: plumb, Feedback: GXXXX'\n",
      "'Attempt 3: Predicted Word: pasty, Feedback: GXYXX'\n",
      "'Attempt 4: Predicted Word: plant, Feedback: GXXYY'\n"
     ]
    },
    {
     "data": {
      "text/plain": [
       "'Player 1 Wins after 5 attempts!'"
      ]
     },
     "execution_count": 7,
     "metadata": {},
     "output_type": "execute_result"
    }
   ],
   "source": [
    "wordle_game(word=\"piano\")"
   ]
  },
  {
   "cell_type": "code",
   "execution_count": 7,
   "id": "8a9d4c81",
   "metadata": {},
   "outputs": [
    {
     "name": "stdout",
     "output_type": "stream",
     "text": [
      "'Attempt 1: Predicted Word: crate, Feedback: XYXYX'\n",
      "'Attempt 2: Predicted Word: leaky, Feedback: X X Y X X'\n",
      "'Attempt 3: Predicted Word: brand, Feedback: X X Y X X'\n"
     ]
    },
    {
     "data": {
      "text/plain": [
       "'Player 1 Wins after 4 attempts!'"
      ]
     },
     "execution_count": 7,
     "metadata": {},
     "output_type": "execute_result"
    }
   ],
   "source": [
    "wordle_game(word=\"plane\")"
   ]
  },
  {
   "cell_type": "code",
   "execution_count": 8,
   "id": "5d40a763",
   "metadata": {},
   "outputs": [
    {
     "name": "stdout",
     "output_type": "stream",
     "text": [
      "'Attempt 1: Predicted Word: crate, Feedback: XXXXX'\n",
      "'Attempt 2: Predicted Word: plumb, Feedback: XXXXX'\n",
      "'Attempt 3: Predicted Word: crane, Feedback: XXXXX'\n",
      "'Attempt 4: Predicted Word: plumb, Feedback: XXXXX'\n",
      "'Attempt 5: Predicted Word: crane, Feedback: XXXXX'\n",
      "'Attempt 6: Predicted Word: plumb, Feedback: XXXXX'\n"
     ]
    },
    {
     "data": {
      "text/plain": [
       "\"Sorry, you've run out of attempts.\""
      ]
     },
     "execution_count": 8,
     "metadata": {},
     "output_type": "execute_result"
    }
   ],
   "source": [
    "wordle_game(word=\"stick\")\n"
   ]
  },
  {
   "cell_type": "markdown",
   "id": "39970a75",
   "metadata": {},
   "source": [
    "# Optimize the Prompt Automatically with MiPROv2\n",
    "\n",
    "Multiprompt Instruction PRoposal Optimizer Version 2"
   ]
  },
  {
   "cell_type": "markdown",
   "id": "36f9ee7d",
   "metadata": {},
   "source": [
    "## Define our Dataset"
   ]
  },
  {
   "cell_type": "code",
   "execution_count": 8,
   "id": "c6ab0a8d",
   "metadata": {},
   "outputs": [
    {
     "data": {
      "text/plain": [
       "Index(['prompt', 'completion', 'answer', 'reward', 'task'], dtype='object')"
      ]
     },
     "execution_count": 8,
     "metadata": {},
     "output_type": "execute_result"
    }
   ],
   "source": [
    "pd.read_parquet(\"../data/wordle_grpo.parquet\").columns"
   ]
  },
  {
   "cell_type": "code",
   "execution_count": 9,
   "id": "50c3cfff",
   "metadata": {},
   "outputs": [
    {
     "name": "stdout",
     "output_type": "stream",
     "text": [
      "[Example({'word': 'smash', 'answer': 'smash'}) (input_keys={'word'}),\n",
      " Example({'word': 'heart', 'answer': 'heart'}) (input_keys={'word'}),\n",
      " Example({'word': 'shirt', 'answer': 'shirt'}) (input_keys={'word'})]\n"
     ]
    }
   ],
   "source": [
    "\n",
    "ds = pd.read_parquet(\"../data/wordle_grpo.parquet\")\n",
    "ds.drop(columns=['prompt', 'completion','reward', 'task'], inplace=True)\n",
    "ds.rename(columns={'answer': 'word'}, inplace=True)\n",
    "ds['answer'] = ds['word']\n",
    "ds = ds.to_dict(orient='records')[:500]\n",
    "ds = [dspy.Example(**item).with_inputs('word') for item in ds]\n",
    "\n",
    "train_size = int(0.8 * len(ds))\n",
    "trainset = ds[:train_size]\n",
    "devset = ds[train_size:]\n",
    "\n",
    "# wordle_dataset = WordleDataset()\n",
    "pprint(devset[:3])"
   ]
  },
  {
   "cell_type": "code",
   "execution_count": 10,
   "id": "d1c8f0a2",
   "metadata": {},
   "outputs": [],
   "source": [
    "# define the evaluator\n",
    "\n",
    "def exact_match(pred, gt, trace=None):\n",
    "    return pred[\"answer\"] == gt[\"answer\"]\n",
    "\n",
    "evaluator = dspy.Evaluate(\n",
    "    metric=exact_match,\n",
    "    devset=devset,\n",
    "    display_table=True,\n",
    "    display_progress=True,\n",
    "    num_threads=24,\n",
    "    provide_traceback=True,\n",
    ")\n",
    "\n",
    "wordle_game = Wordle(player1_lm=dspy.LM('gpt-4o-mini'), player2_lm=dspy.LM('gpt-4o-mini'), max_attempts=6, is_training=True, verbose=False)\n"
   ]
  },
  {
   "cell_type": "code",
   "execution_count": 11,
   "id": "2919e133",
   "metadata": {},
   "outputs": [
    {
     "name": "stdout",
     "output_type": "stream",
     "text": [
      "Average Metric: 27.00 / 100 (27.0%): 100%|██████████| 100/100 [00:38<00:00,  2.58it/s]"
     ]
    },
    {
     "name": "stderr",
     "output_type": "stream",
     "text": [
      "2025/06/20 10:32:20 INFO dspy.evaluate.evaluate: Average Metric: 27 / 100 (27.0%)\n"
     ]
    },
    {
     "name": "stdout",
     "output_type": "stream",
     "text": [
      "\n"
     ]
    },
    {
     "data": {
      "application/vnd.microsoft.datawrangler.viewer.v0+json": {
       "columns": [
        {
         "name": "index",
         "rawType": "int64",
         "type": "integer"
        },
        {
         "name": "word",
         "rawType": "object",
         "type": "string"
        },
        {
         "name": "example_answer",
         "rawType": "object",
         "type": "string"
        },
        {
         "name": "pred_answer",
         "rawType": "object",
         "type": "string"
        },
        {
         "name": "exact_match",
         "rawType": "object",
         "type": "string"
        }
       ],
       "ref": "5167387c-7390-44dc-8e5d-d52cd346bb6c",
       "rows": [
        [
         "0",
         "smash",
         "smash",
         "smash",
         "✔️ [True]"
        ],
        [
         "1",
         "heart",
         "heart",
         "heart",
         "✔️ [True]"
        ],
        [
         "2",
         "shirt",
         "shirt",
         "shirt",
         "✔️ [True]"
        ],
        [
         "3",
         "guide",
         "guide",
         "blame",
         ""
        ],
        [
         "4",
         "quick",
         "quick",
         "brave",
         ""
        ],
        [
         "5",
         "trick",
         "trick",
         "trick",
         "✔️ [True]"
        ],
        [
         "6",
         "grain",
         "grain",
         "grain",
         "✔️ [True]"
        ],
        [
         "7",
         "death",
         "death",
         "plumb",
         ""
        ],
        [
         "8",
         "thumb",
         "thumb",
         "thumb",
         "✔️ [True]"
        ],
        [
         "9",
         "quick",
         "quick",
         "brave",
         ""
        ],
        [
         "10",
         "limit",
         "limit",
         "plumb",
         ""
        ],
        [
         "11",
         "linen",
         "linen",
         "lunch",
         ""
        ],
        [
         "12",
         "brass",
         "brass",
         "plumb",
         ""
        ],
        [
         "13",
         "sweet",
         "sweet",
         "sweep",
         ""
        ],
        [
         "14",
         "sleep",
         "sleep",
         "sheep",
         ""
        ],
        [
         "15",
         "blade",
         "blade",
         "blaze",
         ""
        ],
        [
         "16",
         "sleep",
         "sleep",
         "sheep",
         ""
        ],
        [
         "17",
         "doubt",
         "doubt",
         "plumb",
         ""
        ],
        [
         "18",
         "laugh",
         "laugh",
         "plumb",
         ""
        ],
        [
         "19",
         "rough",
         "rough",
         "BLOWS",
         ""
        ],
        [
         "20",
         "nerve",
         "nerve",
         "nerve",
         "✔️ [True]"
        ],
        [
         "21",
         "thing",
         "thing",
         "plumb",
         ""
        ],
        [
         "22",
         "thing",
         "thing",
         "plumb",
         ""
        ],
        [
         "23",
         "birth",
         "birth",
         "plumb",
         ""
        ],
        [
         "24",
         "cloth",
         "cloth",
         "cloth",
         "✔️ [True]"
        ],
        [
         "25",
         "sheep",
         "sheep",
         "plumb",
         ""
        ],
        [
         "26",
         "cause",
         "cause",
         "caser",
         ""
        ],
        [
         "27",
         "twist",
         "twist",
         "plumb",
         ""
        ],
        [
         "28",
         "chalk",
         "chalk",
         "clash",
         ""
        ],
        [
         "29",
         "stamp",
         "stamp",
         "stame",
         ""
        ],
        [
         "30",
         "heart",
         "heart",
         "heart",
         "✔️ [True]"
        ],
        [
         "31",
         "plate",
         "plate",
         "plate",
         "✔️ [True]"
        ],
        [
         "32",
         "glass",
         "glass",
         "plumb",
         ""
        ],
        [
         "33",
         "owner",
         "owner",
         "crane",
         ""
        ],
        [
         "34",
         "board",
         "board",
         "board",
         "✔️ [True]"
        ],
        [
         "35",
         "basin",
         "basin",
         "baldy",
         ""
        ],
        [
         "36",
         "money",
         "money",
         "MOUTH",
         ""
        ],
        [
         "37",
         "glass",
         "glass",
         "plumb",
         ""
        ],
        [
         "38",
         "store",
         "store",
         "plumb",
         ""
        ],
        [
         "39",
         "stick",
         "stick",
         "plumb",
         ""
        ],
        [
         "40",
         "cheap",
         "cheap",
         "chefs",
         ""
        ],
        [
         "41",
         "sound",
         "sound",
         "plumb",
         ""
        ],
        [
         "42",
         "match",
         "match",
         "plumb",
         ""
        ],
        [
         "43",
         "rough",
         "rough",
         "BLOWS",
         ""
        ],
        [
         "44",
         "blood",
         "blood",
         "blame",
         ""
        ],
        [
         "45",
         "cheap",
         "cheap",
         "cheep",
         ""
        ],
        [
         "46",
         "steel",
         "steel",
         "plumb",
         ""
        ],
        [
         "47",
         "skirt",
         "skirt",
         "plumb",
         ""
        ],
        [
         "48",
         "space",
         "space",
         "share",
         ""
        ],
        [
         "49",
         "sweet",
         "sweet",
         "sweep",
         ""
        ]
       ],
       "shape": {
        "columns": 4,
        "rows": 100
       }
      },
      "text/html": [
       "<div>\n",
       "<style scoped>\n",
       "    .dataframe tbody tr th:only-of-type {\n",
       "        vertical-align: middle;\n",
       "    }\n",
       "\n",
       "    .dataframe tbody tr th {\n",
       "        vertical-align: top;\n",
       "    }\n",
       "\n",
       "    .dataframe thead th {\n",
       "        text-align: right;\n",
       "    }\n",
       "</style>\n",
       "<table border=\"1\" class=\"dataframe\">\n",
       "  <thead>\n",
       "    <tr style=\"text-align: right;\">\n",
       "      <th></th>\n",
       "      <th>word</th>\n",
       "      <th>example_answer</th>\n",
       "      <th>pred_answer</th>\n",
       "      <th>exact_match</th>\n",
       "    </tr>\n",
       "  </thead>\n",
       "  <tbody>\n",
       "    <tr>\n",
       "      <th>0</th>\n",
       "      <td>smash</td>\n",
       "      <td>smash</td>\n",
       "      <td>smash</td>\n",
       "      <td>✔️ [True]</td>\n",
       "    </tr>\n",
       "    <tr>\n",
       "      <th>1</th>\n",
       "      <td>heart</td>\n",
       "      <td>heart</td>\n",
       "      <td>heart</td>\n",
       "      <td>✔️ [True]</td>\n",
       "    </tr>\n",
       "    <tr>\n",
       "      <th>2</th>\n",
       "      <td>shirt</td>\n",
       "      <td>shirt</td>\n",
       "      <td>shirt</td>\n",
       "      <td>✔️ [True]</td>\n",
       "    </tr>\n",
       "    <tr>\n",
       "      <th>3</th>\n",
       "      <td>guide</td>\n",
       "      <td>guide</td>\n",
       "      <td>blame</td>\n",
       "      <td></td>\n",
       "    </tr>\n",
       "    <tr>\n",
       "      <th>4</th>\n",
       "      <td>quick</td>\n",
       "      <td>quick</td>\n",
       "      <td>brave</td>\n",
       "      <td></td>\n",
       "    </tr>\n",
       "    <tr>\n",
       "      <th>...</th>\n",
       "      <td>...</td>\n",
       "      <td>...</td>\n",
       "      <td>...</td>\n",
       "      <td>...</td>\n",
       "    </tr>\n",
       "    <tr>\n",
       "      <th>95</th>\n",
       "      <td>chalk</td>\n",
       "      <td>chalk</td>\n",
       "      <td>clash</td>\n",
       "      <td></td>\n",
       "    </tr>\n",
       "    <tr>\n",
       "      <th>96</th>\n",
       "      <td>brake</td>\n",
       "      <td>brake</td>\n",
       "      <td>brash</td>\n",
       "      <td></td>\n",
       "    </tr>\n",
       "    <tr>\n",
       "      <th>97</th>\n",
       "      <td>blade</td>\n",
       "      <td>blade</td>\n",
       "      <td>blaze</td>\n",
       "      <td></td>\n",
       "    </tr>\n",
       "    <tr>\n",
       "      <th>98</th>\n",
       "      <td>heart</td>\n",
       "      <td>heart</td>\n",
       "      <td>heart</td>\n",
       "      <td>✔️ [True]</td>\n",
       "    </tr>\n",
       "    <tr>\n",
       "      <th>99</th>\n",
       "      <td>bread</td>\n",
       "      <td>bread</td>\n",
       "      <td>brand</td>\n",
       "      <td></td>\n",
       "    </tr>\n",
       "  </tbody>\n",
       "</table>\n",
       "<p>100 rows × 4 columns</p>\n",
       "</div>"
      ],
      "text/plain": [
       "     word example_answer pred_answer exact_match\n",
       "0   smash          smash       smash   ✔️ [True]\n",
       "1   heart          heart       heart   ✔️ [True]\n",
       "2   shirt          shirt       shirt   ✔️ [True]\n",
       "3   guide          guide       blame            \n",
       "4   quick          quick       brave            \n",
       "..    ...            ...         ...         ...\n",
       "95  chalk          chalk       clash            \n",
       "96  brake          brake       brash            \n",
       "97  blade          blade       blaze            \n",
       "98  heart          heart       heart   ✔️ [True]\n",
       "99  bread          bread       brand            \n",
       "\n",
       "[100 rows x 4 columns]"
      ]
     },
     "metadata": {},
     "output_type": "display_data"
    },
    {
     "name": "stdout",
     "output_type": "stream",
     "text": [
      "Original score: 27.0\n"
     ]
    }
   ],
   "source": [
    "\n",
    "original_score = evaluator(wordle_game)\n",
    "print(f\"Original score: {original_score}\")"
   ]
  },
  {
   "cell_type": "markdown",
   "id": "3305958e",
   "metadata": {},
   "source": [
    "# Use optimizer"
   ]
  },
  {
   "cell_type": "code",
   "execution_count": null,
   "id": "bb3a1c0e",
   "metadata": {},
   "outputs": [
    {
     "name": "stderr",
     "output_type": "stream",
     "text": [
      "2025/06/19 18:24:34 INFO dspy.teleprompt.mipro_optimizer_v2: \n",
      "RUNNING WITH THE FOLLOWING LIGHT AUTO RUN SETTINGS:\n",
      "num_trials: 20\n",
      "minibatch: True\n",
      "num_fewshot_candidates: 6\n",
      "num_instruct_candidates: 3\n",
      "valset size: 100\n",
      "\n",
      "2025/06/19 18:24:34 INFO dspy.teleprompt.mipro_optimizer_v2: \n",
      "==> STEP 1: BOOTSTRAP FEWSHOT EXAMPLES <==\n",
      "2025/06/19 18:24:34 INFO dspy.teleprompt.mipro_optimizer_v2: These will be used as few-shot example candidates for our program and for creating instructions.\n",
      "\n",
      "2025/06/19 18:24:34 INFO dspy.teleprompt.mipro_optimizer_v2: Bootstrapping N=6 sets of demonstrations...\n"
     ]
    },
    {
     "name": "stdout",
     "output_type": "stream",
     "text": [
      "Bootstrapping set 1/6\n",
      "Bootstrapping set 2/6\n",
      "Bootstrapping set 3/6\n"
     ]
    },
    {
     "name": "stderr",
     "output_type": "stream",
     "text": [
      "  0%|          | 0/100 [00:00<?, ?it/s]\n",
      "2025/06/19 18:24:34 INFO dspy.teleprompt.mipro_optimizer_v2: Error generating few-shot examples: Can't pickle StringSignature(guessed_word, actual_word -> reasoning, feedback\n",
      "    instructions='Given the fields `guessed_word`, `actual_word`, produce the fields `feedback`.'\n",
      "    guessed_word = Field(annotation=str required=True json_schema_extra={'desc': 'The predicted word by the player', '__dspy_field_type': 'input', 'prefix': 'Guessed Word:'})\n",
      "    actual_word = Field(annotation=str required=True json_schema_extra={'desc': 'The actual word to be guessed', '__dspy_field_type': 'input', 'prefix': 'Actual Word:'})\n",
      "    reasoning = Field(annotation=str required=True json_schema_extra={'prefix': \"Reasoning: Let's think step by step in order to\", 'desc': '${reasoning}', '__dspy_field_type': 'output'})\n",
      "    feedback = Field(annotation=str required=True json_schema_extra={'desc': 'Feedback Format: Each letter in your guess will receive one of three values: \\n- G (green): correct letter in the correct position\\n- Y (yellow): letter exists in the word but in the wrong position\\n- X (wrong): letter is not in the word', '__dspy_field_type': 'output', 'prefix': 'Feedback:'})\n",
      "): it's not found as dspy.signatures.signature.StringSignature\n",
      "2025/06/19 18:24:34 INFO dspy.teleprompt.mipro_optimizer_v2: Running without few-shot examples.\n",
      "2025/06/19 18:24:34 INFO dspy.teleprompt.mipro_optimizer_v2: \n",
      "==> STEP 2: PROPOSE INSTRUCTION CANDIDATES <==\n",
      "2025/06/19 18:24:34 INFO dspy.teleprompt.mipro_optimizer_v2: We will use the few-shot examples from the previous step, a generated dataset summary, a summary of the program code, and a randomly selected prompting tip to propose instructions.\n",
      "2025/06/19 18:24:34 INFO dspy.teleprompt.mipro_optimizer_v2: \n",
      "Proposing N=3 instructions...\n",
      "\n",
      "2025/06/19 18:25:21 INFO dspy.teleprompt.mipro_optimizer_v2: Proposed Instructions for Predictor 0:\n",
      "\n",
      "2025/06/19 18:25:21 INFO dspy.teleprompt.mipro_optimizer_v2: 0: Given the fields `feedback`, produce the fields `guessed_word`.\n",
      "\n",
      "2025/06/19 18:25:21 INFO dspy.teleprompt.mipro_optimizer_v2: 1: You are a skilled Wordle player. Given the feedback from your previous guess, reason through the potential words and produce your next guessed word. Remember, feedback will indicate which letters are correct and their positions. Provide your reasoning step by step, and then state the guessed word.\n",
      "\n",
      "2025/06/19 18:25:21 INFO dspy.teleprompt.mipro_optimizer_v2: 2: Imagine you're in a high-stakes game of Wordle, where you have only one last chance to guess the secret 5-letter word. Based on the feedback you received from your previous guesses, analyze the information carefully. Your task is to reason through the feedback and come up with the best possible next guess. Given the feedback string, generate the most likely `guessed_word` that could be the secret word. Use your reasoning skills to ensure that your guess maximizes your chances of success!\n",
      "\n",
      "2025/06/19 18:25:21 INFO dspy.teleprompt.mipro_optimizer_v2: \n",
      "\n",
      "2025/06/19 18:25:21 INFO dspy.teleprompt.mipro_optimizer_v2: Proposed Instructions for Predictor 1:\n",
      "\n",
      "2025/06/19 18:25:21 INFO dspy.teleprompt.mipro_optimizer_v2: 0: Given the fields `guessed_word`, `actual_word`, produce the fields `feedback`.\n",
      "\n",
      "2025/06/19 18:25:21 INFO dspy.teleprompt.mipro_optimizer_v2: 1: Based on the guessed word and the actual secret word, generate feedback indicating how accurate the guess was. Use the feedback format: 'G' for correct letters in the correct position, 'Y' for letters that are in the word but in the wrong position, and 'X' for letters that are not in the word at all. Provide a reasoning for the feedback to help guide future guesses.\n",
      "\n",
      "2025/06/19 18:25:21 INFO dspy.teleprompt.mipro_optimizer_v2: 2: In a high-stakes game of Wordle, you have only one attempt left to guess the secret 5-letter word. Given the guessed word and the actual word, provide detailed feedback on the guess. Use the following format for your feedback: 'G' for a correct letter in the correct position, 'Y' for a letter that exists in the word but is in the wrong position, and 'X' for a letter that is not in the word at all. Your response should include the reasoning behind the feedback you provide.\n",
      "\n",
      "2025/06/19 18:25:21 INFO dspy.teleprompt.mipro_optimizer_v2: \n",
      "\n",
      "2025/06/19 18:25:21 INFO dspy.teleprompt.mipro_optimizer_v2: ==> STEP 3: FINDING OPTIMAL PROMPT PARAMETERS <==\n",
      "2025/06/19 18:25:21 INFO dspy.teleprompt.mipro_optimizer_v2: We will evaluate the program over a series of trials with different combinations of instructions and few-shot examples to find the optimal combination using Bayesian Optimization.\n",
      "\n",
      "2025/06/19 18:25:21 INFO dspy.teleprompt.mipro_optimizer_v2: == Trial 1 / 25 - Full Evaluation of Default Program ==\n"
     ]
    },
    {
     "name": "stdout",
     "output_type": "stream",
     "text": [
      "Average Metric: 40.00 / 100 (40.0%): 100%|██████████| 100/100 [01:00<00:00,  1.65it/s]"
     ]
    },
    {
     "name": "stderr",
     "output_type": "stream",
     "text": [
      "2025/06/19 18:26:22 INFO dspy.evaluate.evaluate: Average Metric: 40 / 100 (40.0%)\n",
      "2025/06/19 18:26:22 INFO dspy.teleprompt.mipro_optimizer_v2: Default program score: 40.0\n",
      "\n"
     ]
    },
    {
     "name": "stdout",
     "output_type": "stream",
     "text": [
      "\n"
     ]
    },
    {
     "name": "stderr",
     "output_type": "stream",
     "text": [
      "/gaueko0/users/asalem/anaconda3/envs/py310_transformers4dot49/lib/python3.10/site-packages/optuna/_experimental.py:31: ExperimentalWarning: Argument ``multivariate`` is an experimental feature. The interface can change in the future.\n",
      "  warnings.warn(\n",
      "2025/06/19 18:26:22 INFO dspy.teleprompt.mipro_optimizer_v2: == Trial 2 / 25 - Minibatch ==\n"
     ]
    },
    {
     "name": "stdout",
     "output_type": "stream",
     "text": [
      "Average Metric: 11.00 / 35 (31.4%): 100%|██████████| 35/35 [01:06<00:00,  1.90s/it]"
     ]
    },
    {
     "name": "stderr",
     "output_type": "stream",
     "text": [
      "2025/06/19 18:27:29 INFO dspy.evaluate.evaluate: Average Metric: 11 / 35 (31.4%)\n",
      "2025/06/19 18:27:29 INFO dspy.teleprompt.mipro_optimizer_v2: Score: 31.43 on minibatch of size 35 with parameters ['Predictor 0: Instruction 1', 'Predictor 1: Instruction 2'].\n",
      "2025/06/19 18:27:29 INFO dspy.teleprompt.mipro_optimizer_v2: Minibatch scores so far: [31.43]\n",
      "2025/06/19 18:27:29 INFO dspy.teleprompt.mipro_optimizer_v2: Full eval scores so far: [40.0]\n",
      "2025/06/19 18:27:29 INFO dspy.teleprompt.mipro_optimizer_v2: Best full score so far: 40.0\n",
      "2025/06/19 18:27:29 INFO dspy.teleprompt.mipro_optimizer_v2: =========================================\n",
      "\n",
      "\n",
      "2025/06/19 18:27:29 INFO dspy.teleprompt.mipro_optimizer_v2: == Trial 3 / 25 - Minibatch ==\n"
     ]
    },
    {
     "name": "stdout",
     "output_type": "stream",
     "text": [
      "\n",
      "Average Metric: 14.00 / 35 (40.0%): 100%|██████████| 35/35 [00:50<00:00,  1.43s/it]"
     ]
    },
    {
     "name": "stderr",
     "output_type": "stream",
     "text": [
      "2025/06/19 18:28:19 INFO dspy.evaluate.evaluate: Average Metric: 14 / 35 (40.0%)\n"
     ]
    },
    {
     "name": "stdout",
     "output_type": "stream",
     "text": [
      "\n"
     ]
    },
    {
     "name": "stderr",
     "output_type": "stream",
     "text": [
      "2025/06/19 18:28:20 INFO dspy.teleprompt.mipro_optimizer_v2: Score: 40.0 on minibatch of size 35 with parameters ['Predictor 0: Instruction 0', 'Predictor 1: Instruction 2'].\n",
      "2025/06/19 18:28:20 INFO dspy.teleprompt.mipro_optimizer_v2: Minibatch scores so far: [31.43, 40.0]\n",
      "2025/06/19 18:28:20 INFO dspy.teleprompt.mipro_optimizer_v2: Full eval scores so far: [40.0]\n",
      "2025/06/19 18:28:20 INFO dspy.teleprompt.mipro_optimizer_v2: Best full score so far: 40.0\n",
      "2025/06/19 18:28:20 INFO dspy.teleprompt.mipro_optimizer_v2: =========================================\n",
      "\n",
      "\n",
      "2025/06/19 18:28:20 INFO dspy.teleprompt.mipro_optimizer_v2: == Trial 4 / 25 - Minibatch ==\n"
     ]
    },
    {
     "name": "stdout",
     "output_type": "stream",
     "text": [
      "Average Metric: 1.00 / 6 (16.7%):  14%|█▍        | 5/35 [00:16<01:26,  2.88s/it]"
     ]
    },
    {
     "name": "stderr",
     "output_type": "stream",
     "text": [
      "2025/06/19 18:28:40 WARNING dspy.utils.parallelizer: SIGINT received. Cancelling.\n",
      "[W 2025-06-19 18:28:40,487] Trial 3 failed with parameters: {'0_predictor_instruction': 0, '1_predictor_instruction': 1} because of the following error: KeyboardInterrupt().\n",
      "Traceback (most recent call last):\n",
      "  File \"/gaueko0/users/asalem/anaconda3/envs/py310_transformers4dot49/lib/python3.10/site-packages/optuna/study/_optimize.py\", line 197, in _run_trial\n",
      "    value_or_values = func(trial)\n",
      "  File \"/gaueko0/users/asalem/anaconda3/envs/py310_transformers4dot49/lib/python3.10/site-packages/dspy/teleprompt/mipro_optimizer_v2.py\", line 563, in objective\n",
      "    score = eval_candidate_program(batch_size, valset, candidate_program, evaluate, self.rng)\n",
      "  File \"/gaueko0/users/asalem/anaconda3/envs/py310_transformers4dot49/lib/python3.10/site-packages/dspy/teleprompt/utils.py\", line 55, in eval_candidate_program\n",
      "    return evaluate(\n",
      "  File \"/gaueko0/users/asalem/anaconda3/envs/py310_transformers4dot49/lib/python3.10/site-packages/dspy/utils/callback.py\", line 326, in sync_wrapper\n",
      "    return fn(instance, *args, **kwargs)\n",
      "  File \"/gaueko0/users/asalem/anaconda3/envs/py310_transformers4dot49/lib/python3.10/site-packages/dspy/evaluate/evaluate.py\", line 171, in __call__\n",
      "    results = executor.execute(process_item, devset)\n",
      "  File \"/gaueko0/users/asalem/anaconda3/envs/py310_transformers4dot49/lib/python3.10/site-packages/dspy/utils/parallelizer.py\", line 48, in execute\n",
      "    return self._execute_parallel(wrapped, data)\n",
      "  File \"/gaueko0/users/asalem/anaconda3/envs/py310_transformers4dot49/lib/python3.10/site-packages/dspy/utils/parallelizer.py\", line 149, in _execute_parallel\n",
      "    done, not_done = wait(futures_set, timeout=1, return_when=FIRST_COMPLETED)\n",
      "  File \"/gaueko0/users/asalem/anaconda3/envs/py310_transformers4dot49/lib/python3.10/concurrent/futures/_base.py\", line 306, in wait\n",
      "    waiter.event.wait(timeout)\n",
      "  File \"/gaueko0/users/asalem/anaconda3/envs/py310_transformers4dot49/lib/python3.10/threading.py\", line 600, in wait\n",
      "    signaled = self._cond.wait(timeout)\n",
      "  File \"/gaueko0/users/asalem/anaconda3/envs/py310_transformers4dot49/lib/python3.10/threading.py\", line 324, in wait\n",
      "    gotit = waiter.acquire(True, timeout)\n",
      "  File \"/gaueko0/users/asalem/anaconda3/envs/py310_transformers4dot49/lib/python3.10/site-packages/dspy/utils/parallelizer.py\", line 109, in handler\n",
      "    orig_handler(sig, frame)\n",
      "KeyboardInterrupt\n",
      "[W 2025-06-19 18:28:40,509] Trial 3 failed with value None.\n"
     ]
    },
    {
     "ename": "KeyboardInterrupt",
     "evalue": "",
     "output_type": "error",
     "traceback": [
      "\u001b[0;31m---------------------------------------------------------------------------\u001b[0m",
      "\u001b[0;31mKeyboardInterrupt\u001b[0m                         Traceback (most recent call last)",
      "Cell \u001b[0;32mIn[38], line 11\u001b[0m\n\u001b[1;32m      1\u001b[0m \u001b[38;5;28;01mwith\u001b[39;00m dspy\u001b[38;5;241m.\u001b[39mcontext(lm\u001b[38;5;241m=\u001b[39mdspy\u001b[38;5;241m.\u001b[39mLM(\u001b[38;5;124m'\u001b[39m\u001b[38;5;124mgpt-4o-mini\u001b[39m\u001b[38;5;124m'\u001b[39m)):\n\u001b[1;32m      4\u001b[0m     teleprompter \u001b[38;5;241m=\u001b[39m dspy\u001b[38;5;241m.\u001b[39mMIPROv2(\n\u001b[1;32m      5\u001b[0m         metric\u001b[38;5;241m=\u001b[39mexact_match,\n\u001b[1;32m      6\u001b[0m         auto\u001b[38;5;241m=\u001b[39m\u001b[38;5;124m\"\u001b[39m\u001b[38;5;124mlight\u001b[39m\u001b[38;5;124m\"\u001b[39m,\n\u001b[1;32m      7\u001b[0m         num_threads\u001b[38;5;241m=\u001b[39m\u001b[38;5;241m16\u001b[39m,\n\u001b[1;32m      8\u001b[0m         prompt_model\u001b[38;5;241m=\u001b[39mwordle_game\u001b[38;5;241m.\u001b[39mplayer1\u001b[38;5;241m.\u001b[39mget_lm()\n\u001b[1;32m      9\u001b[0m     )\n\u001b[0;32m---> 11\u001b[0m     optimized_wordle_game \u001b[38;5;241m=\u001b[39m \u001b[43mteleprompter\u001b[49m\u001b[38;5;241;43m.\u001b[39;49m\u001b[43mcompile\u001b[49m\u001b[43m(\u001b[49m\n\u001b[1;32m     12\u001b[0m \u001b[43m        \u001b[49m\u001b[43mwordle_game\u001b[49m\u001b[43m,\u001b[49m\n\u001b[1;32m     13\u001b[0m \u001b[43m        \u001b[49m\u001b[43mtrainset\u001b[49m\u001b[38;5;241;43m=\u001b[39;49m\u001b[43mtrainset\u001b[49m\u001b[43m[\u001b[49m\u001b[43m:\u001b[49m\u001b[38;5;241;43m100\u001b[39;49m\u001b[43m]\u001b[49m\u001b[43m,\u001b[49m\n\u001b[1;32m     14\u001b[0m \u001b[43m        \u001b[49m\u001b[43mvalset\u001b[49m\u001b[38;5;241;43m=\u001b[39;49m\u001b[43mdevset\u001b[49m\u001b[43m,\u001b[49m\n\u001b[1;32m     15\u001b[0m \u001b[43m        \u001b[49m\u001b[43mrequires_permission_to_run\u001b[49m\u001b[38;5;241;43m=\u001b[39;49m\u001b[38;5;28;43;01mFalse\u001b[39;49;00m\u001b[43m,\u001b[49m\n\u001b[1;32m     16\u001b[0m \u001b[43m        \u001b[49m\n\u001b[1;32m     17\u001b[0m \u001b[43m    \u001b[49m\u001b[43m)\u001b[49m\n",
      "File \u001b[0;32m~/anaconda3/envs/py310_transformers4dot49/lib/python3.10/site-packages/dspy/teleprompt/mipro_optimizer_v2.py:203\u001b[0m, in \u001b[0;36mMIPROv2.compile\u001b[0;34m(self, student, trainset, teacher, valset, num_trials, max_bootstrapped_demos, max_labeled_demos, seed, minibatch, minibatch_size, minibatch_full_eval_steps, program_aware_proposer, data_aware_proposer, view_data_batch_size, tip_aware_proposer, fewshot_aware_proposer, requires_permission_to_run, provide_traceback)\u001b[0m\n\u001b[1;32m    200\u001b[0m     demo_candidates \u001b[38;5;241m=\u001b[39m \u001b[38;5;28;01mNone\u001b[39;00m\n\u001b[1;32m    202\u001b[0m \u001b[38;5;66;03m# Step 3: Find optimal prompt parameters\u001b[39;00m\n\u001b[0;32m--> 203\u001b[0m best_program \u001b[38;5;241m=\u001b[39m \u001b[38;5;28;43mself\u001b[39;49m\u001b[38;5;241;43m.\u001b[39;49m\u001b[43m_optimize_prompt_parameters\u001b[49m\u001b[43m(\u001b[49m\n\u001b[1;32m    204\u001b[0m \u001b[43m    \u001b[49m\u001b[43mprogram\u001b[49m\u001b[43m,\u001b[49m\n\u001b[1;32m    205\u001b[0m \u001b[43m    \u001b[49m\u001b[43minstruction_candidates\u001b[49m\u001b[43m,\u001b[49m\n\u001b[1;32m    206\u001b[0m \u001b[43m    \u001b[49m\u001b[43mdemo_candidates\u001b[49m\u001b[43m,\u001b[49m\n\u001b[1;32m    207\u001b[0m \u001b[43m    \u001b[49m\u001b[43mevaluate\u001b[49m\u001b[43m,\u001b[49m\n\u001b[1;32m    208\u001b[0m \u001b[43m    \u001b[49m\u001b[43mvalset\u001b[49m\u001b[43m,\u001b[49m\n\u001b[1;32m    209\u001b[0m \u001b[43m    \u001b[49m\u001b[43mnum_trials\u001b[49m\u001b[43m,\u001b[49m\n\u001b[1;32m    210\u001b[0m \u001b[43m    \u001b[49m\u001b[43mminibatch\u001b[49m\u001b[43m,\u001b[49m\n\u001b[1;32m    211\u001b[0m \u001b[43m    \u001b[49m\u001b[43mminibatch_size\u001b[49m\u001b[43m,\u001b[49m\n\u001b[1;32m    212\u001b[0m \u001b[43m    \u001b[49m\u001b[43mminibatch_full_eval_steps\u001b[49m\u001b[43m,\u001b[49m\n\u001b[1;32m    213\u001b[0m \u001b[43m    \u001b[49m\u001b[43mseed\u001b[49m\u001b[43m,\u001b[49m\n\u001b[1;32m    214\u001b[0m \u001b[43m\u001b[49m\u001b[43m)\u001b[49m\n\u001b[1;32m    216\u001b[0m \u001b[38;5;28;01mreturn\u001b[39;00m best_program\n",
      "File \u001b[0;32m~/anaconda3/envs/py310_transformers4dot49/lib/python3.10/site-packages/dspy/teleprompt/mipro_optimizer_v2.py:645\u001b[0m, in \u001b[0;36mMIPROv2._optimize_prompt_parameters\u001b[0;34m(self, program, instruction_candidates, demo_candidates, evaluate, valset, num_trials, minibatch, minibatch_size, minibatch_full_eval_steps, seed)\u001b[0m\n\u001b[1;32m    639\u001b[0m trial \u001b[38;5;241m=\u001b[39m optuna\u001b[38;5;241m.\u001b[39mtrial\u001b[38;5;241m.\u001b[39mcreate_trial(\n\u001b[1;32m    640\u001b[0m     params\u001b[38;5;241m=\u001b[39mdefault_params,\n\u001b[1;32m    641\u001b[0m     distributions\u001b[38;5;241m=\u001b[39m\u001b[38;5;28mself\u001b[39m\u001b[38;5;241m.\u001b[39m_get_param_distributions(program, instruction_candidates, demo_candidates),\n\u001b[1;32m    642\u001b[0m     value\u001b[38;5;241m=\u001b[39mdefault_score,\n\u001b[1;32m    643\u001b[0m )\n\u001b[1;32m    644\u001b[0m study\u001b[38;5;241m.\u001b[39madd_trial(trial)\n\u001b[0;32m--> 645\u001b[0m \u001b[43mstudy\u001b[49m\u001b[38;5;241;43m.\u001b[39;49m\u001b[43moptimize\u001b[49m\u001b[43m(\u001b[49m\u001b[43mobjective\u001b[49m\u001b[43m,\u001b[49m\u001b[43m \u001b[49m\u001b[43mn_trials\u001b[49m\u001b[38;5;241;43m=\u001b[39;49m\u001b[43mnum_trials\u001b[49m\u001b[43m)\u001b[49m\n\u001b[1;32m    647\u001b[0m \u001b[38;5;66;03m# Attach logs to best program\u001b[39;00m\n\u001b[1;32m    648\u001b[0m \u001b[38;5;28;01mif\u001b[39;00m best_program \u001b[38;5;129;01mis\u001b[39;00m \u001b[38;5;129;01mnot\u001b[39;00m \u001b[38;5;28;01mNone\u001b[39;00m \u001b[38;5;129;01mand\u001b[39;00m \u001b[38;5;28mself\u001b[39m\u001b[38;5;241m.\u001b[39mtrack_stats:\n",
      "File \u001b[0;32m~/anaconda3/envs/py310_transformers4dot49/lib/python3.10/site-packages/optuna/study/study.py:475\u001b[0m, in \u001b[0;36mStudy.optimize\u001b[0;34m(self, func, n_trials, timeout, n_jobs, catch, callbacks, gc_after_trial, show_progress_bar)\u001b[0m\n\u001b[1;32m    373\u001b[0m \u001b[38;5;28;01mdef\u001b[39;00m\u001b[38;5;250m \u001b[39m\u001b[38;5;21moptimize\u001b[39m(\n\u001b[1;32m    374\u001b[0m     \u001b[38;5;28mself\u001b[39m,\n\u001b[1;32m    375\u001b[0m     func: ObjectiveFuncType,\n\u001b[0;32m   (...)\u001b[0m\n\u001b[1;32m    382\u001b[0m     show_progress_bar: \u001b[38;5;28mbool\u001b[39m \u001b[38;5;241m=\u001b[39m \u001b[38;5;28;01mFalse\u001b[39;00m,\n\u001b[1;32m    383\u001b[0m ) \u001b[38;5;241m-\u001b[39m\u001b[38;5;241m>\u001b[39m \u001b[38;5;28;01mNone\u001b[39;00m:\n\u001b[1;32m    384\u001b[0m \u001b[38;5;250m    \u001b[39m\u001b[38;5;124;03m\"\"\"Optimize an objective function.\u001b[39;00m\n\u001b[1;32m    385\u001b[0m \n\u001b[1;32m    386\u001b[0m \u001b[38;5;124;03m    Optimization is done by choosing a suitable set of hyperparameter values from a given\u001b[39;00m\n\u001b[0;32m   (...)\u001b[0m\n\u001b[1;32m    473\u001b[0m \u001b[38;5;124;03m            If nested invocation of this method occurs.\u001b[39;00m\n\u001b[1;32m    474\u001b[0m \u001b[38;5;124;03m    \"\"\"\u001b[39;00m\n\u001b[0;32m--> 475\u001b[0m     \u001b[43m_optimize\u001b[49m\u001b[43m(\u001b[49m\n\u001b[1;32m    476\u001b[0m \u001b[43m        \u001b[49m\u001b[43mstudy\u001b[49m\u001b[38;5;241;43m=\u001b[39;49m\u001b[38;5;28;43mself\u001b[39;49m\u001b[43m,\u001b[49m\n\u001b[1;32m    477\u001b[0m \u001b[43m        \u001b[49m\u001b[43mfunc\u001b[49m\u001b[38;5;241;43m=\u001b[39;49m\u001b[43mfunc\u001b[49m\u001b[43m,\u001b[49m\n\u001b[1;32m    478\u001b[0m \u001b[43m        \u001b[49m\u001b[43mn_trials\u001b[49m\u001b[38;5;241;43m=\u001b[39;49m\u001b[43mn_trials\u001b[49m\u001b[43m,\u001b[49m\n\u001b[1;32m    479\u001b[0m \u001b[43m        \u001b[49m\u001b[43mtimeout\u001b[49m\u001b[38;5;241;43m=\u001b[39;49m\u001b[43mtimeout\u001b[49m\u001b[43m,\u001b[49m\n\u001b[1;32m    480\u001b[0m \u001b[43m        \u001b[49m\u001b[43mn_jobs\u001b[49m\u001b[38;5;241;43m=\u001b[39;49m\u001b[43mn_jobs\u001b[49m\u001b[43m,\u001b[49m\n\u001b[1;32m    481\u001b[0m \u001b[43m        \u001b[49m\u001b[43mcatch\u001b[49m\u001b[38;5;241;43m=\u001b[39;49m\u001b[38;5;28;43mtuple\u001b[39;49m\u001b[43m(\u001b[49m\u001b[43mcatch\u001b[49m\u001b[43m)\u001b[49m\u001b[43m \u001b[49m\u001b[38;5;28;43;01mif\u001b[39;49;00m\u001b[43m \u001b[49m\u001b[38;5;28;43misinstance\u001b[39;49m\u001b[43m(\u001b[49m\u001b[43mcatch\u001b[49m\u001b[43m,\u001b[49m\u001b[43m \u001b[49m\u001b[43mIterable\u001b[49m\u001b[43m)\u001b[49m\u001b[43m \u001b[49m\u001b[38;5;28;43;01melse\u001b[39;49;00m\u001b[43m \u001b[49m\u001b[43m(\u001b[49m\u001b[43mcatch\u001b[49m\u001b[43m,\u001b[49m\u001b[43m)\u001b[49m\u001b[43m,\u001b[49m\n\u001b[1;32m    482\u001b[0m \u001b[43m        \u001b[49m\u001b[43mcallbacks\u001b[49m\u001b[38;5;241;43m=\u001b[39;49m\u001b[43mcallbacks\u001b[49m\u001b[43m,\u001b[49m\n\u001b[1;32m    483\u001b[0m \u001b[43m        \u001b[49m\u001b[43mgc_after_trial\u001b[49m\u001b[38;5;241;43m=\u001b[39;49m\u001b[43mgc_after_trial\u001b[49m\u001b[43m,\u001b[49m\n\u001b[1;32m    484\u001b[0m \u001b[43m        \u001b[49m\u001b[43mshow_progress_bar\u001b[49m\u001b[38;5;241;43m=\u001b[39;49m\u001b[43mshow_progress_bar\u001b[49m\u001b[43m,\u001b[49m\n\u001b[1;32m    485\u001b[0m \u001b[43m    \u001b[49m\u001b[43m)\u001b[49m\n",
      "File \u001b[0;32m~/anaconda3/envs/py310_transformers4dot49/lib/python3.10/site-packages/optuna/study/_optimize.py:63\u001b[0m, in \u001b[0;36m_optimize\u001b[0;34m(study, func, n_trials, timeout, n_jobs, catch, callbacks, gc_after_trial, show_progress_bar)\u001b[0m\n\u001b[1;32m     61\u001b[0m \u001b[38;5;28;01mtry\u001b[39;00m:\n\u001b[1;32m     62\u001b[0m     \u001b[38;5;28;01mif\u001b[39;00m n_jobs \u001b[38;5;241m==\u001b[39m \u001b[38;5;241m1\u001b[39m:\n\u001b[0;32m---> 63\u001b[0m         \u001b[43m_optimize_sequential\u001b[49m\u001b[43m(\u001b[49m\n\u001b[1;32m     64\u001b[0m \u001b[43m            \u001b[49m\u001b[43mstudy\u001b[49m\u001b[43m,\u001b[49m\n\u001b[1;32m     65\u001b[0m \u001b[43m            \u001b[49m\u001b[43mfunc\u001b[49m\u001b[43m,\u001b[49m\n\u001b[1;32m     66\u001b[0m \u001b[43m            \u001b[49m\u001b[43mn_trials\u001b[49m\u001b[43m,\u001b[49m\n\u001b[1;32m     67\u001b[0m \u001b[43m            \u001b[49m\u001b[43mtimeout\u001b[49m\u001b[43m,\u001b[49m\n\u001b[1;32m     68\u001b[0m \u001b[43m            \u001b[49m\u001b[43mcatch\u001b[49m\u001b[43m,\u001b[49m\n\u001b[1;32m     69\u001b[0m \u001b[43m            \u001b[49m\u001b[43mcallbacks\u001b[49m\u001b[43m,\u001b[49m\n\u001b[1;32m     70\u001b[0m \u001b[43m            \u001b[49m\u001b[43mgc_after_trial\u001b[49m\u001b[43m,\u001b[49m\n\u001b[1;32m     71\u001b[0m \u001b[43m            \u001b[49m\u001b[43mreseed_sampler_rng\u001b[49m\u001b[38;5;241;43m=\u001b[39;49m\u001b[38;5;28;43;01mFalse\u001b[39;49;00m\u001b[43m,\u001b[49m\n\u001b[1;32m     72\u001b[0m \u001b[43m            \u001b[49m\u001b[43mtime_start\u001b[49m\u001b[38;5;241;43m=\u001b[39;49m\u001b[38;5;28;43;01mNone\u001b[39;49;00m\u001b[43m,\u001b[49m\n\u001b[1;32m     73\u001b[0m \u001b[43m            \u001b[49m\u001b[43mprogress_bar\u001b[49m\u001b[38;5;241;43m=\u001b[39;49m\u001b[43mprogress_bar\u001b[49m\u001b[43m,\u001b[49m\n\u001b[1;32m     74\u001b[0m \u001b[43m        \u001b[49m\u001b[43m)\u001b[49m\n\u001b[1;32m     75\u001b[0m     \u001b[38;5;28;01melse\u001b[39;00m:\n\u001b[1;32m     76\u001b[0m         \u001b[38;5;28;01mif\u001b[39;00m n_jobs \u001b[38;5;241m==\u001b[39m \u001b[38;5;241m-\u001b[39m\u001b[38;5;241m1\u001b[39m:\n",
      "File \u001b[0;32m~/anaconda3/envs/py310_transformers4dot49/lib/python3.10/site-packages/optuna/study/_optimize.py:160\u001b[0m, in \u001b[0;36m_optimize_sequential\u001b[0;34m(study, func, n_trials, timeout, catch, callbacks, gc_after_trial, reseed_sampler_rng, time_start, progress_bar)\u001b[0m\n\u001b[1;32m    157\u001b[0m         \u001b[38;5;28;01mbreak\u001b[39;00m\n\u001b[1;32m    159\u001b[0m \u001b[38;5;28;01mtry\u001b[39;00m:\n\u001b[0;32m--> 160\u001b[0m     frozen_trial \u001b[38;5;241m=\u001b[39m \u001b[43m_run_trial\u001b[49m\u001b[43m(\u001b[49m\u001b[43mstudy\u001b[49m\u001b[43m,\u001b[49m\u001b[43m \u001b[49m\u001b[43mfunc\u001b[49m\u001b[43m,\u001b[49m\u001b[43m \u001b[49m\u001b[43mcatch\u001b[49m\u001b[43m)\u001b[49m\n\u001b[1;32m    161\u001b[0m \u001b[38;5;28;01mfinally\u001b[39;00m:\n\u001b[1;32m    162\u001b[0m     \u001b[38;5;66;03m# The following line mitigates memory problems that can be occurred in some\u001b[39;00m\n\u001b[1;32m    163\u001b[0m     \u001b[38;5;66;03m# environments (e.g., services that use computing containers such as GitHub Actions).\u001b[39;00m\n\u001b[1;32m    164\u001b[0m     \u001b[38;5;66;03m# Please refer to the following PR for further details:\u001b[39;00m\n\u001b[1;32m    165\u001b[0m     \u001b[38;5;66;03m# https://github.com/optuna/optuna/pull/325.\u001b[39;00m\n\u001b[1;32m    166\u001b[0m     \u001b[38;5;28;01mif\u001b[39;00m gc_after_trial:\n",
      "File \u001b[0;32m~/anaconda3/envs/py310_transformers4dot49/lib/python3.10/site-packages/optuna/study/_optimize.py:248\u001b[0m, in \u001b[0;36m_run_trial\u001b[0;34m(study, func, catch)\u001b[0m\n\u001b[1;32m    241\u001b[0m         \u001b[38;5;28;01massert\u001b[39;00m \u001b[38;5;28;01mFalse\u001b[39;00m, \u001b[38;5;124m\"\u001b[39m\u001b[38;5;124mShould not reach.\u001b[39m\u001b[38;5;124m\"\u001b[39m\n\u001b[1;32m    243\u001b[0m \u001b[38;5;28;01mif\u001b[39;00m (\n\u001b[1;32m    244\u001b[0m     frozen_trial\u001b[38;5;241m.\u001b[39mstate \u001b[38;5;241m==\u001b[39m TrialState\u001b[38;5;241m.\u001b[39mFAIL\n\u001b[1;32m    245\u001b[0m     \u001b[38;5;129;01mand\u001b[39;00m func_err \u001b[38;5;129;01mis\u001b[39;00m \u001b[38;5;129;01mnot\u001b[39;00m \u001b[38;5;28;01mNone\u001b[39;00m\n\u001b[1;32m    246\u001b[0m     \u001b[38;5;129;01mand\u001b[39;00m \u001b[38;5;129;01mnot\u001b[39;00m \u001b[38;5;28misinstance\u001b[39m(func_err, catch)\n\u001b[1;32m    247\u001b[0m ):\n\u001b[0;32m--> 248\u001b[0m     \u001b[38;5;28;01mraise\u001b[39;00m func_err\n\u001b[1;32m    249\u001b[0m \u001b[38;5;28;01mreturn\u001b[39;00m frozen_trial\n",
      "File \u001b[0;32m~/anaconda3/envs/py310_transformers4dot49/lib/python3.10/site-packages/optuna/study/_optimize.py:197\u001b[0m, in \u001b[0;36m_run_trial\u001b[0;34m(study, func, catch)\u001b[0m\n\u001b[1;32m    195\u001b[0m \u001b[38;5;28;01mwith\u001b[39;00m get_heartbeat_thread(trial\u001b[38;5;241m.\u001b[39m_trial_id, study\u001b[38;5;241m.\u001b[39m_storage):\n\u001b[1;32m    196\u001b[0m     \u001b[38;5;28;01mtry\u001b[39;00m:\n\u001b[0;32m--> 197\u001b[0m         value_or_values \u001b[38;5;241m=\u001b[39m \u001b[43mfunc\u001b[49m\u001b[43m(\u001b[49m\u001b[43mtrial\u001b[49m\u001b[43m)\u001b[49m\n\u001b[1;32m    198\u001b[0m     \u001b[38;5;28;01mexcept\u001b[39;00m exceptions\u001b[38;5;241m.\u001b[39mTrialPruned \u001b[38;5;28;01mas\u001b[39;00m e:\n\u001b[1;32m    199\u001b[0m         \u001b[38;5;66;03m# TODO(mamu): Handle multi-objective cases.\u001b[39;00m\n\u001b[1;32m    200\u001b[0m         state \u001b[38;5;241m=\u001b[39m TrialState\u001b[38;5;241m.\u001b[39mPRUNED\n",
      "File \u001b[0;32m~/anaconda3/envs/py310_transformers4dot49/lib/python3.10/site-packages/dspy/teleprompt/mipro_optimizer_v2.py:563\u001b[0m, in \u001b[0;36mMIPROv2._optimize_prompt_parameters.<locals>.objective\u001b[0;34m(trial)\u001b[0m\n\u001b[1;32m    561\u001b[0m \u001b[38;5;66;03m# Evaluate the candidate program (on minibatch if minibatch=True)\u001b[39;00m\n\u001b[1;32m    562\u001b[0m batch_size \u001b[38;5;241m=\u001b[39m minibatch_size \u001b[38;5;28;01mif\u001b[39;00m minibatch \u001b[38;5;28;01melse\u001b[39;00m \u001b[38;5;28mlen\u001b[39m(valset)\n\u001b[0;32m--> 563\u001b[0m score \u001b[38;5;241m=\u001b[39m \u001b[43meval_candidate_program\u001b[49m\u001b[43m(\u001b[49m\u001b[43mbatch_size\u001b[49m\u001b[43m,\u001b[49m\u001b[43m \u001b[49m\u001b[43mvalset\u001b[49m\u001b[43m,\u001b[49m\u001b[43m \u001b[49m\u001b[43mcandidate_program\u001b[49m\u001b[43m,\u001b[49m\u001b[43m \u001b[49m\u001b[43mevaluate\u001b[49m\u001b[43m,\u001b[49m\u001b[43m \u001b[49m\u001b[38;5;28;43mself\u001b[39;49m\u001b[38;5;241;43m.\u001b[39;49m\u001b[43mrng\u001b[49m\u001b[43m)\u001b[49m\n\u001b[1;32m    564\u001b[0m total_eval_calls \u001b[38;5;241m+\u001b[39m\u001b[38;5;241m=\u001b[39m batch_size\n\u001b[1;32m    566\u001b[0m \u001b[38;5;66;03m# Update best score and program\u001b[39;00m\n",
      "File \u001b[0;32m~/anaconda3/envs/py310_transformers4dot49/lib/python3.10/site-packages/dspy/teleprompt/utils.py:55\u001b[0m, in \u001b[0;36meval_candidate_program\u001b[0;34m(batch_size, trainset, candidate_program, evaluate, rng, return_all_scores)\u001b[0m\n\u001b[1;32m     52\u001b[0m         \u001b[38;5;28;01mreturn\u001b[39;00m evaluate(candidate_program, devset\u001b[38;5;241m=\u001b[39mtrainset, return_all_scores\u001b[38;5;241m=\u001b[39mreturn_all_scores, callback_metadata\u001b[38;5;241m=\u001b[39m{\u001b[38;5;124m\"\u001b[39m\u001b[38;5;124mmetric_key\u001b[39m\u001b[38;5;124m\"\u001b[39m: \u001b[38;5;124m\"\u001b[39m\u001b[38;5;124meval_full\u001b[39m\u001b[38;5;124m\"\u001b[39m})\n\u001b[1;32m     53\u001b[0m     \u001b[38;5;66;03m# Or evaluate on a minibatch\u001b[39;00m\n\u001b[1;32m     54\u001b[0m     \u001b[38;5;28;01melse\u001b[39;00m:\n\u001b[0;32m---> 55\u001b[0m         \u001b[38;5;28;01mreturn\u001b[39;00m \u001b[43mevaluate\u001b[49m\u001b[43m(\u001b[49m\n\u001b[1;32m     56\u001b[0m \u001b[43m            \u001b[49m\u001b[43mcandidate_program\u001b[49m\u001b[43m,\u001b[49m\n\u001b[1;32m     57\u001b[0m \u001b[43m            \u001b[49m\u001b[43mdevset\u001b[49m\u001b[38;5;241;43m=\u001b[39;49m\u001b[43mcreate_minibatch\u001b[49m\u001b[43m(\u001b[49m\u001b[43mtrainset\u001b[49m\u001b[43m,\u001b[49m\u001b[43m \u001b[49m\u001b[43mbatch_size\u001b[49m\u001b[43m,\u001b[49m\u001b[43m \u001b[49m\u001b[43mrng\u001b[49m\u001b[43m)\u001b[49m\u001b[43m,\u001b[49m\n\u001b[1;32m     58\u001b[0m \u001b[43m            \u001b[49m\u001b[43mreturn_all_scores\u001b[49m\u001b[38;5;241;43m=\u001b[39;49m\u001b[43mreturn_all_scores\u001b[49m\u001b[43m,\u001b[49m\n\u001b[1;32m     59\u001b[0m \u001b[43m            \u001b[49m\u001b[43mcallback_metadata\u001b[49m\u001b[38;5;241;43m=\u001b[39;49m\u001b[43m{\u001b[49m\u001b[38;5;124;43m\"\u001b[39;49m\u001b[38;5;124;43mmetric_key\u001b[39;49m\u001b[38;5;124;43m\"\u001b[39;49m\u001b[43m:\u001b[49m\u001b[43m \u001b[49m\u001b[38;5;124;43m\"\u001b[39;49m\u001b[38;5;124;43meval_minibatch\u001b[39;49m\u001b[38;5;124;43m\"\u001b[39;49m\u001b[43m}\u001b[49m\n\u001b[1;32m     60\u001b[0m \u001b[43m        \u001b[49m\u001b[43m)\u001b[49m\n\u001b[1;32m     61\u001b[0m \u001b[38;5;28;01mexcept\u001b[39;00m \u001b[38;5;167;01mException\u001b[39;00m:\n\u001b[1;32m     62\u001b[0m     logger\u001b[38;5;241m.\u001b[39merror(\u001b[38;5;124m\"\u001b[39m\u001b[38;5;124mAn exception occurred during evaluation\u001b[39m\u001b[38;5;124m\"\u001b[39m, exc_info\u001b[38;5;241m=\u001b[39m\u001b[38;5;28;01mTrue\u001b[39;00m)\n",
      "File \u001b[0;32m~/anaconda3/envs/py310_transformers4dot49/lib/python3.10/site-packages/dspy/utils/callback.py:326\u001b[0m, in \u001b[0;36mwith_callbacks.<locals>.sync_wrapper\u001b[0;34m(instance, *args, **kwargs)\u001b[0m\n\u001b[1;32m    324\u001b[0m callbacks \u001b[38;5;241m=\u001b[39m _get_active_callbacks(instance)\n\u001b[1;32m    325\u001b[0m \u001b[38;5;28;01mif\u001b[39;00m \u001b[38;5;129;01mnot\u001b[39;00m callbacks:\n\u001b[0;32m--> 326\u001b[0m     \u001b[38;5;28;01mreturn\u001b[39;00m \u001b[43mfn\u001b[49m\u001b[43m(\u001b[49m\u001b[43minstance\u001b[49m\u001b[43m,\u001b[49m\u001b[43m \u001b[49m\u001b[38;5;241;43m*\u001b[39;49m\u001b[43margs\u001b[49m\u001b[43m,\u001b[49m\u001b[43m \u001b[49m\u001b[38;5;241;43m*\u001b[39;49m\u001b[38;5;241;43m*\u001b[39;49m\u001b[43mkwargs\u001b[49m\u001b[43m)\u001b[49m\n\u001b[1;32m    328\u001b[0m call_id \u001b[38;5;241m=\u001b[39m uuid\u001b[38;5;241m.\u001b[39muuid4()\u001b[38;5;241m.\u001b[39mhex\n\u001b[1;32m    330\u001b[0m _execute_start_callbacks(instance, fn, call_id, callbacks, args, kwargs)\n",
      "File \u001b[0;32m~/anaconda3/envs/py310_transformers4dot49/lib/python3.10/site-packages/dspy/evaluate/evaluate.py:171\u001b[0m, in \u001b[0;36mEvaluate.__call__\u001b[0;34m(self, program, metric, devset, num_threads, display_progress, display_table, return_all_scores, return_outputs, callback_metadata)\u001b[0m\n\u001b[1;32m    167\u001b[0m         program\u001b[38;5;241m.\u001b[39m_suggest_failures \u001b[38;5;241m+\u001b[39m\u001b[38;5;241m=\u001b[39m dspy\u001b[38;5;241m.\u001b[39msettings\u001b[38;5;241m.\u001b[39mget(\u001b[38;5;124m\"\u001b[39m\u001b[38;5;124msuggest_failures\u001b[39m\u001b[38;5;124m\"\u001b[39m)\n\u001b[1;32m    169\u001b[0m     \u001b[38;5;28;01mreturn\u001b[39;00m prediction, score\n\u001b[0;32m--> 171\u001b[0m results \u001b[38;5;241m=\u001b[39m \u001b[43mexecutor\u001b[49m\u001b[38;5;241;43m.\u001b[39;49m\u001b[43mexecute\u001b[49m\u001b[43m(\u001b[49m\u001b[43mprocess_item\u001b[49m\u001b[43m,\u001b[49m\u001b[43m \u001b[49m\u001b[43mdevset\u001b[49m\u001b[43m)\u001b[49m\n\u001b[1;32m    172\u001b[0m \u001b[38;5;28;01massert\u001b[39;00m \u001b[38;5;28mlen\u001b[39m(devset) \u001b[38;5;241m==\u001b[39m \u001b[38;5;28mlen\u001b[39m(results)\n\u001b[1;32m    174\u001b[0m results \u001b[38;5;241m=\u001b[39m [((dspy\u001b[38;5;241m.\u001b[39mPrediction(), \u001b[38;5;28mself\u001b[39m\u001b[38;5;241m.\u001b[39mfailure_score) \u001b[38;5;28;01mif\u001b[39;00m r \u001b[38;5;129;01mis\u001b[39;00m \u001b[38;5;28;01mNone\u001b[39;00m \u001b[38;5;28;01melse\u001b[39;00m r) \u001b[38;5;28;01mfor\u001b[39;00m r \u001b[38;5;129;01min\u001b[39;00m results]\n",
      "File \u001b[0;32m~/anaconda3/envs/py310_transformers4dot49/lib/python3.10/site-packages/dspy/utils/parallelizer.py:48\u001b[0m, in \u001b[0;36mParallelExecutor.execute\u001b[0;34m(self, function, data)\u001b[0m\n\u001b[1;32m     46\u001b[0m tqdm\u001b[38;5;241m.\u001b[39mtqdm\u001b[38;5;241m.\u001b[39m_instances\u001b[38;5;241m.\u001b[39mclear()\n\u001b[1;32m     47\u001b[0m wrapped \u001b[38;5;241m=\u001b[39m \u001b[38;5;28mself\u001b[39m\u001b[38;5;241m.\u001b[39m_wrap_function(function)\n\u001b[0;32m---> 48\u001b[0m \u001b[38;5;28;01mreturn\u001b[39;00m \u001b[38;5;28;43mself\u001b[39;49m\u001b[38;5;241;43m.\u001b[39;49m\u001b[43m_execute_parallel\u001b[49m\u001b[43m(\u001b[49m\u001b[43mwrapped\u001b[49m\u001b[43m,\u001b[49m\u001b[43m \u001b[49m\u001b[43mdata\u001b[49m\u001b[43m)\u001b[49m\n",
      "File \u001b[0;32m~/anaconda3/envs/py310_transformers4dot49/lib/python3.10/site-packages/dspy/utils/parallelizer.py:149\u001b[0m, in \u001b[0;36mParallelExecutor._execute_parallel\u001b[0;34m(self, function, data)\u001b[0m\n\u001b[1;32m    147\u001b[0m \u001b[38;5;28;01mif\u001b[39;00m all_done():\n\u001b[1;32m    148\u001b[0m     \u001b[38;5;28;01mbreak\u001b[39;00m\n\u001b[0;32m--> 149\u001b[0m done, not_done \u001b[38;5;241m=\u001b[39m \u001b[43mwait\u001b[49m\u001b[43m(\u001b[49m\u001b[43mfutures_set\u001b[49m\u001b[43m,\u001b[49m\u001b[43m \u001b[49m\u001b[43mtimeout\u001b[49m\u001b[38;5;241;43m=\u001b[39;49m\u001b[38;5;241;43m1\u001b[39;49m\u001b[43m,\u001b[49m\u001b[43m \u001b[49m\u001b[43mreturn_when\u001b[49m\u001b[38;5;241;43m=\u001b[39;49m\u001b[43mFIRST_COMPLETED\u001b[49m\u001b[43m)\u001b[49m\n\u001b[1;32m    150\u001b[0m \u001b[38;5;28;01mfor\u001b[39;00m f \u001b[38;5;129;01min\u001b[39;00m done:\n\u001b[1;32m    151\u001b[0m     futures_set\u001b[38;5;241m.\u001b[39mremove(f)\n",
      "File \u001b[0;32m~/anaconda3/envs/py310_transformers4dot49/lib/python3.10/concurrent/futures/_base.py:306\u001b[0m, in \u001b[0;36mwait\u001b[0;34m(fs, timeout, return_when)\u001b[0m\n\u001b[1;32m    302\u001b[0m         \u001b[38;5;28;01mreturn\u001b[39;00m DoneAndNotDoneFutures(done, not_done)\n\u001b[1;32m    304\u001b[0m     waiter \u001b[38;5;241m=\u001b[39m _create_and_install_waiters(fs, return_when)\n\u001b[0;32m--> 306\u001b[0m \u001b[43mwaiter\u001b[49m\u001b[38;5;241;43m.\u001b[39;49m\u001b[43mevent\u001b[49m\u001b[38;5;241;43m.\u001b[39;49m\u001b[43mwait\u001b[49m\u001b[43m(\u001b[49m\u001b[43mtimeout\u001b[49m\u001b[43m)\u001b[49m\n\u001b[1;32m    307\u001b[0m \u001b[38;5;28;01mfor\u001b[39;00m f \u001b[38;5;129;01min\u001b[39;00m fs:\n\u001b[1;32m    308\u001b[0m     \u001b[38;5;28;01mwith\u001b[39;00m f\u001b[38;5;241m.\u001b[39m_condition:\n",
      "File \u001b[0;32m~/anaconda3/envs/py310_transformers4dot49/lib/python3.10/threading.py:600\u001b[0m, in \u001b[0;36mEvent.wait\u001b[0;34m(self, timeout)\u001b[0m\n\u001b[1;32m    598\u001b[0m signaled \u001b[38;5;241m=\u001b[39m \u001b[38;5;28mself\u001b[39m\u001b[38;5;241m.\u001b[39m_flag\n\u001b[1;32m    599\u001b[0m \u001b[38;5;28;01mif\u001b[39;00m \u001b[38;5;129;01mnot\u001b[39;00m signaled:\n\u001b[0;32m--> 600\u001b[0m     signaled \u001b[38;5;241m=\u001b[39m \u001b[38;5;28;43mself\u001b[39;49m\u001b[38;5;241;43m.\u001b[39;49m\u001b[43m_cond\u001b[49m\u001b[38;5;241;43m.\u001b[39;49m\u001b[43mwait\u001b[49m\u001b[43m(\u001b[49m\u001b[43mtimeout\u001b[49m\u001b[43m)\u001b[49m\n\u001b[1;32m    601\u001b[0m \u001b[38;5;28;01mreturn\u001b[39;00m signaled\n",
      "File \u001b[0;32m~/anaconda3/envs/py310_transformers4dot49/lib/python3.10/threading.py:324\u001b[0m, in \u001b[0;36mCondition.wait\u001b[0;34m(self, timeout)\u001b[0m\n\u001b[1;32m    322\u001b[0m \u001b[38;5;28;01melse\u001b[39;00m:\n\u001b[1;32m    323\u001b[0m     \u001b[38;5;28;01mif\u001b[39;00m timeout \u001b[38;5;241m>\u001b[39m \u001b[38;5;241m0\u001b[39m:\n\u001b[0;32m--> 324\u001b[0m         gotit \u001b[38;5;241m=\u001b[39m \u001b[43mwaiter\u001b[49m\u001b[38;5;241;43m.\u001b[39;49m\u001b[43macquire\u001b[49m\u001b[43m(\u001b[49m\u001b[38;5;28;43;01mTrue\u001b[39;49;00m\u001b[43m,\u001b[49m\u001b[43m \u001b[49m\u001b[43mtimeout\u001b[49m\u001b[43m)\u001b[49m\n\u001b[1;32m    325\u001b[0m     \u001b[38;5;28;01melse\u001b[39;00m:\n\u001b[1;32m    326\u001b[0m         gotit \u001b[38;5;241m=\u001b[39m waiter\u001b[38;5;241m.\u001b[39macquire(\u001b[38;5;28;01mFalse\u001b[39;00m)\n",
      "File \u001b[0;32m~/anaconda3/envs/py310_transformers4dot49/lib/python3.10/site-packages/dspy/utils/parallelizer.py:109\u001b[0m, in \u001b[0;36mParallelExecutor._execute_parallel.<locals>.interrupt_manager.<locals>.handler\u001b[0;34m(sig, frame)\u001b[0m\n\u001b[1;32m    107\u001b[0m \u001b[38;5;28mself\u001b[39m\u001b[38;5;241m.\u001b[39mcancel_jobs\u001b[38;5;241m.\u001b[39mset()\n\u001b[1;32m    108\u001b[0m logger\u001b[38;5;241m.\u001b[39mwarning(\u001b[38;5;124m\"\u001b[39m\u001b[38;5;124mSIGINT received. Cancelling.\u001b[39m\u001b[38;5;124m\"\u001b[39m)\n\u001b[0;32m--> 109\u001b[0m \u001b[43morig_handler\u001b[49m\u001b[43m(\u001b[49m\u001b[43msig\u001b[49m\u001b[43m,\u001b[49m\u001b[43m \u001b[49m\u001b[43mframe\u001b[49m\u001b[43m)\u001b[49m\n",
      "\u001b[0;31mKeyboardInterrupt\u001b[0m: "
     ]
    }
   ],
   "source": [
    "with dspy.context(lm=dspy.LM('gpt-4o-mini')):\n",
    "\n",
    "\n",
    "    teleprompter = dspy.MIPROv2(\n",
    "        metric=exact_match,\n",
    "        # auto=\"light\",\n",
    "        num_threads=16,\n",
    "        prompt_model=wordle_game.player1.get_lm(),\n",
    "        num_candidates=3,\n",
    "    )\n",
    "\n",
    "    optimized_wordle_game = teleprompter.compile(\n",
    "        wordle_game,\n",
    "        trainset=trainset[:100],\n",
    "        valset=devset,\n",
    "        requires_permission_to_run=False,\n",
    "        num_trials=25\n",
    "    )\n",
    "\n",
    "    optimized_score = evaluator(optimized_wordle_game)\n",
    "    print(f\"Optimized score: {optimized_score}\")"
   ]
  },
  {
   "cell_type": "markdown",
   "id": "6c5ac2f9",
   "metadata": {},
   "source": [
    "## After 25 Iterations\n",
    "![35-iterations](../assets/35_iterations_in.png)"
   ]
  },
  {
   "cell_type": "markdown",
   "id": "b19f9fba",
   "metadata": {},
   "source": []
  }
 ],
 "metadata": {
  "kernelspec": {
   "display_name": "Python 3",
   "language": "python",
   "name": "python3"
  },
  "language_info": {
   "codemirror_mode": {
    "name": "ipython",
    "version": 3
   },
   "file_extension": ".py",
   "mimetype": "text/x-python",
   "name": "python",
   "nbconvert_exporter": "python",
   "pygments_lexer": "ipython3",
   "version": "3.10.0"
  }
 },
 "nbformat": 4,
 "nbformat_minor": 5
}
